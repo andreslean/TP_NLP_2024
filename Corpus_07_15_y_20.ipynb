{
 "cells": [
  {
   "cell_type": "markdown",
   "metadata": {},
   "source": [
    "### Importamos las librerias."
   ]
  },
  {
   "cell_type": "code",
   "execution_count": 4,
   "metadata": {},
   "outputs": [
    {
     "name": "stderr",
     "output_type": "stream",
     "text": [
      "c:\\Users\\amunoz\\AppData\\Local\\anaconda3\\envs\\topics\\Lib\\site-packages\\urllib3\\connectionpool.py:1103: InsecureRequestWarning: Unverified HTTPS request is being made to host 'localhost'. Adding certificate verification is strongly advised. See: https://urllib3.readthedocs.io/en/latest/advanced-usage.html#tls-warnings\n",
      "  warnings.warn(\n"
     ]
    }
   ],
   "source": [
    "from umap import UMAP\n",
    "from hdbscan import HDBSCAN\n",
    "from sentence_transformers import SentenceTransformer\n",
    "from sklearn.feature_extraction.text import CountVectorizer, TfidfVectorizer \n",
    "import pandas as pd\n",
    "from bertopic import BERTopic\n",
    "from bertopic.representation import KeyBERTInspired\n",
    "from bertopic.vectorizers import ClassTfidfTransformer\n",
    "from datasets import load_dataset_builder \n",
    "from datasets import load_dataset\n",
    "from sklearn.metrics.pairwise import cosine_similarity\n",
    "from collections import Counter\n",
    "from datetime import datetime\n",
    "from dateutil.parser import parse\n",
    "import numpy as np\n",
    "from tqdm import tqdm\n",
    "#import tensorflow as tf\n",
    "from  tp_function import  clean_all, Cleaning_text\n",
    "from  tp_function import load_dataset_function, limpieza_entidades, limpieza_keywords, limpieza_texto, train_function, threshold_function, tabla_frecuencia #(*)"
   ]
  },
  {
   "cell_type": "code",
   "execution_count": 5,
   "metadata": {},
   "outputs": [],
   "source": [
    "from opensearch_data_model import Topic, TopicKeyword, os_client"
   ]
  },
  {
   "cell_type": "code",
   "execution_count": 6,
   "metadata": {},
   "outputs": [],
   "source": [
    "Topic.init()\n"
   ]
  },
  {
   "cell_type": "markdown",
   "metadata": {},
   "source": [
    "### Levantamos y guardamos en disco los Dataset. Nos quedamos solo con los que tienen fecha correcta.\n"
   ]
  },
  {
   "cell_type": "code",
   "execution_count": null,
   "metadata": {},
   "outputs": [],
   "source": [
    "date_choice = '2024-07-15' \n",
    "df_1 = load_dataset_function(date_choice)\n",
    "df_1.to_parquet(r\"C:\\Users\\amunoz\\Desktop\\NLP_2024\\TP\"+\"\\df_1.parquet\")\n",
    "df_1.head(1)"
   ]
  },
  {
   "cell_type": "code",
   "execution_count": 7,
   "metadata": {},
   "outputs": [],
   "source": [
    "df_1 = pd.read_parquet(r\"C:\\Users\\amunoz\\Desktop\\NLP_2024\\TP\"+\"\\df_1.parquet\")\n"
   ]
  },
  {
   "cell_type": "code",
   "execution_count": null,
   "metadata": {},
   "outputs": [],
   "source": [
    "date_choice = '2024-07-20'    \n",
    "df_2 = load_dataset_function(date_choice)\n",
    "df_2.to_parquet(r\"C:\\Users\\amunoz\\Desktop\\NLP_2024\\TP\"+\"\\df_2.parquet\")\n",
    "df_2.head(1)"
   ]
  },
  {
   "cell_type": "code",
   "execution_count": 8,
   "metadata": {},
   "outputs": [],
   "source": [
    "df_2 = pd.read_parquet(r\"C:\\Users\\amunoz\\Desktop\\NLP_2024\\TP\"+\"\\df_2.parquet\")"
   ]
  },
  {
   "cell_type": "code",
   "execution_count": 9,
   "metadata": {},
   "outputs": [
    {
     "name": "stdout",
     "output_type": "stream",
     "text": [
      "The history saving thread hit an unexpected error (OperationalError('disk I/O error')).History will not be written to the database.\n"
     ]
    },
    {
     "data": {
      "text/html": [
       "<div>\n",
       "<style scoped>\n",
       "    .dataframe tbody tr th:only-of-type {\n",
       "        vertical-align: middle;\n",
       "    }\n",
       "\n",
       "    .dataframe tbody tr th {\n",
       "        vertical-align: top;\n",
       "    }\n",
       "\n",
       "    .dataframe thead th {\n",
       "        text-align: right;\n",
       "    }\n",
       "</style>\n",
       "<table border=\"1\" class=\"dataframe\">\n",
       "  <thead>\n",
       "    <tr style=\"text-align: right;\">\n",
       "      <th></th>\n",
       "      <th>entities</th>\n",
       "      <th>keywords</th>\n",
       "      <th>text</th>\n",
       "    </tr>\n",
       "  </thead>\n",
       "  <tbody>\n",
       "    <tr>\n",
       "      <th>963</th>\n",
       "      <td>[Julio Cobos, C, Presidente, Martín Tetaz, Cri...</td>\n",
       "      <td>[propinas, proyecto similar, propina, tarjeta,...</td>\n",
       "      <td>Un proyecto busca que las propinas se incluyan...</td>\n",
       "    </tr>\n",
       "    <tr>\n",
       "      <th>1161</th>\n",
       "      <td>[Eliana, Rubén, Marcela, Susi, Angela, Gerardo...</td>\n",
       "      <td>[un hogar, muchísimos amigos, mis amigas, conf...</td>\n",
       "      <td>Lidia Furlani y Natividad Muñoz, que viven en ...</td>\n",
       "    </tr>\n",
       "  </tbody>\n",
       "</table>\n",
       "</div>"
      ],
      "text/plain": [
       "                                               entities  \\\n",
       "963   [Julio Cobos, C, Presidente, Martín Tetaz, Cri...   \n",
       "1161  [Eliana, Rubén, Marcela, Susi, Angela, Gerardo...   \n",
       "\n",
       "                                               keywords  \\\n",
       "963   [propinas, proyecto similar, propina, tarjeta,...   \n",
       "1161  [un hogar, muchísimos amigos, mis amigas, conf...   \n",
       "\n",
       "                                                   text  \n",
       "963   Un proyecto busca que las propinas se incluyan...  \n",
       "1161  Lidia Furlani y Natividad Muñoz, que viven en ...  "
      ]
     },
     "execution_count": 9,
     "metadata": {},
     "output_type": "execute_result"
    }
   ],
   "source": [
    "df_1[[\"entities\" ,  \"keywords\", \"text\"]].head(2)\n",
    "df_2[[\"entities\" ,  \"keywords\", \"text\"]].head(2)"
   ]
  },
  {
   "cell_type": "markdown",
   "metadata": {},
   "source": [
    "### Achico los dataset para reducir tiempo de entrenamiemto"
   ]
  },
  {
   "cell_type": "code",
   "execution_count": 10,
   "metadata": {},
   "outputs": [
    {
     "name": "stdout",
     "output_type": "stream",
     "text": [
      " Cantidad de noticias de df_1 para entrenar el modelo es 500\n",
      " Cantidad de noticias de df_2 para entrenar el modelo es 500\n"
     ]
    }
   ],
   "source": [
    "batch_news = 500\n",
    "\n",
    "df_train_1 = df_1.sample(n=int(batch_news)).copy()\n",
    "df_train_2 = df_2.sample(n=int(batch_news)).copy()\n",
    "\n",
    "print(f\" Cantidad de noticias de df_1 para entrenar el modelo es {len(df_train_1)}\")\n",
    "print(f\" Cantidad de noticias de df_2 para entrenar el modelo es {len(df_train_2)}\")"
   ]
  },
  {
   "cell_type": "code",
   "execution_count": 11,
   "metadata": {},
   "outputs": [
    {
     "data": {
      "text/html": [
       "<div>\n",
       "<style scoped>\n",
       "    .dataframe tbody tr th:only-of-type {\n",
       "        vertical-align: middle;\n",
       "    }\n",
       "\n",
       "    .dataframe tbody tr th {\n",
       "        vertical-align: top;\n",
       "    }\n",
       "\n",
       "    .dataframe thead th {\n",
       "        text-align: right;\n",
       "    }\n",
       "</style>\n",
       "<table border=\"1\" class=\"dataframe\">\n",
       "  <thead>\n",
       "    <tr style=\"text-align: right;\">\n",
       "      <th></th>\n",
       "      <th>entities</th>\n",
       "      <th>keywords</th>\n",
       "      <th>text</th>\n",
       "    </tr>\n",
       "  </thead>\n",
       "  <tbody>\n",
       "    <tr>\n",
       "      <th>10392</th>\n",
       "      <td>[Néstor Kirchner, Karina, Mauricio Macri, Mile...</td>\n",
       "      <td>[alto impacto, el expresidente, los hermanos, ...</td>\n",
       "      <td>Por: Por Pablo Ibánez\\n\\nVictoria Villarruel e...</td>\n",
       "    </tr>\n",
       "    <tr>\n",
       "      <th>7584</th>\n",
       "      <td>[Guillermo Raúl Montes, Infocielo]</td>\n",
       "      <td>[auto, vehículo, corsa, tragedia, luxación, ba...</td>\n",
       "      <td>Una nena se arrojó de un auto en Ramallo y, cu...</td>\n",
       "    </tr>\n",
       "  </tbody>\n",
       "</table>\n",
       "</div>"
      ],
      "text/plain": [
       "                                                entities  \\\n",
       "10392  [Néstor Kirchner, Karina, Mauricio Macri, Mile...   \n",
       "7584                  [Guillermo Raúl Montes, Infocielo]   \n",
       "\n",
       "                                                keywords  \\\n",
       "10392  [alto impacto, el expresidente, los hermanos, ...   \n",
       "7584   [auto, vehículo, corsa, tragedia, luxación, ba...   \n",
       "\n",
       "                                                    text  \n",
       "10392  Por: Por Pablo Ibánez\\n\\nVictoria Villarruel e...  \n",
       "7584   Una nena se arrojó de un auto en Ramallo y, cu...  "
      ]
     },
     "execution_count": 11,
     "metadata": {},
     "output_type": "execute_result"
    }
   ],
   "source": [
    "df_train_1[[\"entities\" ,  \"keywords\", \"text\"]].head(2)"
   ]
  },
  {
   "cell_type": "markdown",
   "metadata": {},
   "source": [
    "### StopWords "
   ]
  },
  {
   "cell_type": "code",
   "execution_count": 13,
   "metadata": {},
   "outputs": [],
   "source": [
    "SPANISH_STOPWORDS = list(pd.read_csv('stop_words_spanish.csv' )['stopwords'].values)\n",
    "SPANISH_STOPWORDS_PARTICULAR = list(pd.read_csv('stop_words_particular.csv' )['stopwords'].values)\n",
    "#SPANISH_STOPWORDS_PARTICULAR. Falta  Completar a mano"
   ]
  },
  {
   "cell_type": "markdown",
   "metadata": {},
   "source": [
    "### Entidades y KeyWords con una pequeña limpieza.\n"
   ]
  },
  {
   "cell_type": "code",
   "execution_count": 14,
   "metadata": {},
   "outputs": [
    {
     "name": "stdout",
     "output_type": "stream",
     "text": [
      "2979\n"
     ]
    },
    {
     "data": {
      "text/plain": [
       "['europa press', 'secretaría de turismo', 'cnv', 'nesta', 'ceferino namuncurá']"
      ]
     },
     "execution_count": 14,
     "metadata": {},
     "output_type": "execute_result"
    }
   ],
   "source": [
    "enti_train_1 = limpieza_entidades(df_train_1, SPANISH_STOPWORDS, SPANISH_STOPWORDS_PARTICULAR)\n",
    "print(len(enti_train_1))\n",
    "enti_train_1[:5]\n"
   ]
  },
  {
   "cell_type": "code",
   "execution_count": 15,
   "metadata": {},
   "outputs": [
    {
     "name": "stdout",
     "output_type": "stream",
     "text": [
      "3352\n"
     ]
    },
    {
     "data": {
      "text/plain": [
       "['darío benedetto',\n",
       " 'secretaría de turismo',\n",
       " 'nahuel barrios',\n",
       " 'barcelona',\n",
       " 'carolina domenech']"
      ]
     },
     "execution_count": 15,
     "metadata": {},
     "output_type": "execute_result"
    }
   ],
   "source": [
    "enti_train_2 = limpieza_entidades(df_train_2,SPANISH_STOPWORDS, SPANISH_STOPWORDS_PARTICULAR)\n",
    "print(len(enti_train_2))\n",
    "enti_train_2[:5]\n"
   ]
  },
  {
   "cell_type": "code",
   "execution_count": 16,
   "metadata": {},
   "outputs": [
    {
     "name": "stdout",
     "output_type": "stream",
     "text": [
      "9193\n"
     ]
    },
    {
     "data": {
      "text/plain": [
       "['ex ministro', 'anécdota familiar']"
      ]
     },
     "execution_count": 16,
     "metadata": {},
     "output_type": "execute_result"
    }
   ],
   "source": [
    "key_train_1 = limpieza_keywords(df_train_1, SPANISH_STOPWORDS, SPANISH_STOPWORDS_PARTICULAR)\n",
    "print(len(key_train_1))\n",
    "key_train_1[:2]\n"
   ]
  },
  {
   "cell_type": "code",
   "execution_count": 17,
   "metadata": {},
   "outputs": [
    {
     "name": "stdout",
     "output_type": "stream",
     "text": [
      "9775\n"
     ]
    },
    {
     "data": {
      "text/plain": [
       "['ejercicios', 'espejo']"
      ]
     },
     "execution_count": 17,
     "metadata": {},
     "output_type": "execute_result"
    }
   ],
   "source": [
    "key_train_2 = limpieza_keywords(df_train_2, SPANISH_STOPWORDS, SPANISH_STOPWORDS_PARTICULAR)\n",
    "print(len(key_train_2))\n",
    "key_train_2[:2]\n"
   ]
  },
  {
   "cell_type": "markdown",
   "metadata": {},
   "source": [
    "### Armo el vocabulario "
   ]
  },
  {
   "cell_type": "code",
   "execution_count": 18,
   "metadata": {},
   "outputs": [],
   "source": [
    "vocab_1 =  list(set(key_train_1 + enti_train_1))\n",
    "vocab_2 =  list(set(key_train_2 + enti_train_2))"
   ]
  },
  {
   "cell_type": "markdown",
   "metadata": {},
   "source": [
    "### TF-IDF"
   ]
  },
  {
   "cell_type": "code",
   "execution_count": 19,
   "metadata": {},
   "outputs": [],
   "source": [
    "from typing import Callable, Iterable, Literal, Mapping   "
   ]
  },
  {
   "cell_type": "code",
   "execution_count": 25,
   "metadata": {},
   "outputs": [
    {
     "data": {
      "text/html": [
       "<style>#sk-container-id-2 {\n",
       "  /* Definition of color scheme common for light and dark mode */\n",
       "  --sklearn-color-text: black;\n",
       "  --sklearn-color-line: gray;\n",
       "  /* Definition of color scheme for unfitted estimators */\n",
       "  --sklearn-color-unfitted-level-0: #fff5e6;\n",
       "  --sklearn-color-unfitted-level-1: #f6e4d2;\n",
       "  --sklearn-color-unfitted-level-2: #ffe0b3;\n",
       "  --sklearn-color-unfitted-level-3: chocolate;\n",
       "  /* Definition of color scheme for fitted estimators */\n",
       "  --sklearn-color-fitted-level-0: #f0f8ff;\n",
       "  --sklearn-color-fitted-level-1: #d4ebff;\n",
       "  --sklearn-color-fitted-level-2: #b3dbfd;\n",
       "  --sklearn-color-fitted-level-3: cornflowerblue;\n",
       "\n",
       "  /* Specific color for light theme */\n",
       "  --sklearn-color-text-on-default-background: var(--sg-text-color, var(--theme-code-foreground, var(--jp-content-font-color1, black)));\n",
       "  --sklearn-color-background: var(--sg-background-color, var(--theme-background, var(--jp-layout-color0, white)));\n",
       "  --sklearn-color-border-box: var(--sg-text-color, var(--theme-code-foreground, var(--jp-content-font-color1, black)));\n",
       "  --sklearn-color-icon: #696969;\n",
       "\n",
       "  @media (prefers-color-scheme: dark) {\n",
       "    /* Redefinition of color scheme for dark theme */\n",
       "    --sklearn-color-text-on-default-background: var(--sg-text-color, var(--theme-code-foreground, var(--jp-content-font-color1, white)));\n",
       "    --sklearn-color-background: var(--sg-background-color, var(--theme-background, var(--jp-layout-color0, #111)));\n",
       "    --sklearn-color-border-box: var(--sg-text-color, var(--theme-code-foreground, var(--jp-content-font-color1, white)));\n",
       "    --sklearn-color-icon: #878787;\n",
       "  }\n",
       "}\n",
       "\n",
       "#sk-container-id-2 {\n",
       "  color: var(--sklearn-color-text);\n",
       "}\n",
       "\n",
       "#sk-container-id-2 pre {\n",
       "  padding: 0;\n",
       "}\n",
       "\n",
       "#sk-container-id-2 input.sk-hidden--visually {\n",
       "  border: 0;\n",
       "  clip: rect(1px 1px 1px 1px);\n",
       "  clip: rect(1px, 1px, 1px, 1px);\n",
       "  height: 1px;\n",
       "  margin: -1px;\n",
       "  overflow: hidden;\n",
       "  padding: 0;\n",
       "  position: absolute;\n",
       "  width: 1px;\n",
       "}\n",
       "\n",
       "#sk-container-id-2 div.sk-dashed-wrapped {\n",
       "  border: 1px dashed var(--sklearn-color-line);\n",
       "  margin: 0 0.4em 0.5em 0.4em;\n",
       "  box-sizing: border-box;\n",
       "  padding-bottom: 0.4em;\n",
       "  background-color: var(--sklearn-color-background);\n",
       "}\n",
       "\n",
       "#sk-container-id-2 div.sk-container {\n",
       "  /* jupyter's `normalize.less` sets `[hidden] { display: none; }`\n",
       "     but bootstrap.min.css set `[hidden] { display: none !important; }`\n",
       "     so we also need the `!important` here to be able to override the\n",
       "     default hidden behavior on the sphinx rendered scikit-learn.org.\n",
       "     See: https://github.com/scikit-learn/scikit-learn/issues/21755 */\n",
       "  display: inline-block !important;\n",
       "  position: relative;\n",
       "}\n",
       "\n",
       "#sk-container-id-2 div.sk-text-repr-fallback {\n",
       "  display: none;\n",
       "}\n",
       "\n",
       "div.sk-parallel-item,\n",
       "div.sk-serial,\n",
       "div.sk-item {\n",
       "  /* draw centered vertical line to link estimators */\n",
       "  background-image: linear-gradient(var(--sklearn-color-text-on-default-background), var(--sklearn-color-text-on-default-background));\n",
       "  background-size: 2px 100%;\n",
       "  background-repeat: no-repeat;\n",
       "  background-position: center center;\n",
       "}\n",
       "\n",
       "/* Parallel-specific style estimator block */\n",
       "\n",
       "#sk-container-id-2 div.sk-parallel-item::after {\n",
       "  content: \"\";\n",
       "  width: 100%;\n",
       "  border-bottom: 2px solid var(--sklearn-color-text-on-default-background);\n",
       "  flex-grow: 1;\n",
       "}\n",
       "\n",
       "#sk-container-id-2 div.sk-parallel {\n",
       "  display: flex;\n",
       "  align-items: stretch;\n",
       "  justify-content: center;\n",
       "  background-color: var(--sklearn-color-background);\n",
       "  position: relative;\n",
       "}\n",
       "\n",
       "#sk-container-id-2 div.sk-parallel-item {\n",
       "  display: flex;\n",
       "  flex-direction: column;\n",
       "}\n",
       "\n",
       "#sk-container-id-2 div.sk-parallel-item:first-child::after {\n",
       "  align-self: flex-end;\n",
       "  width: 50%;\n",
       "}\n",
       "\n",
       "#sk-container-id-2 div.sk-parallel-item:last-child::after {\n",
       "  align-self: flex-start;\n",
       "  width: 50%;\n",
       "}\n",
       "\n",
       "#sk-container-id-2 div.sk-parallel-item:only-child::after {\n",
       "  width: 0;\n",
       "}\n",
       "\n",
       "/* Serial-specific style estimator block */\n",
       "\n",
       "#sk-container-id-2 div.sk-serial {\n",
       "  display: flex;\n",
       "  flex-direction: column;\n",
       "  align-items: center;\n",
       "  background-color: var(--sklearn-color-background);\n",
       "  padding-right: 1em;\n",
       "  padding-left: 1em;\n",
       "}\n",
       "\n",
       "\n",
       "/* Toggleable style: style used for estimator/Pipeline/ColumnTransformer box that is\n",
       "clickable and can be expanded/collapsed.\n",
       "- Pipeline and ColumnTransformer use this feature and define the default style\n",
       "- Estimators will overwrite some part of the style using the `sk-estimator` class\n",
       "*/\n",
       "\n",
       "/* Pipeline and ColumnTransformer style (default) */\n",
       "\n",
       "#sk-container-id-2 div.sk-toggleable {\n",
       "  /* Default theme specific background. It is overwritten whether we have a\n",
       "  specific estimator or a Pipeline/ColumnTransformer */\n",
       "  background-color: var(--sklearn-color-background);\n",
       "}\n",
       "\n",
       "/* Toggleable label */\n",
       "#sk-container-id-2 label.sk-toggleable__label {\n",
       "  cursor: pointer;\n",
       "  display: block;\n",
       "  width: 100%;\n",
       "  margin-bottom: 0;\n",
       "  padding: 0.5em;\n",
       "  box-sizing: border-box;\n",
       "  text-align: center;\n",
       "}\n",
       "\n",
       "#sk-container-id-2 label.sk-toggleable__label-arrow:before {\n",
       "  /* Arrow on the left of the label */\n",
       "  content: \"▸\";\n",
       "  float: left;\n",
       "  margin-right: 0.25em;\n",
       "  color: var(--sklearn-color-icon);\n",
       "}\n",
       "\n",
       "#sk-container-id-2 label.sk-toggleable__label-arrow:hover:before {\n",
       "  color: var(--sklearn-color-text);\n",
       "}\n",
       "\n",
       "/* Toggleable content - dropdown */\n",
       "\n",
       "#sk-container-id-2 div.sk-toggleable__content {\n",
       "  max-height: 0;\n",
       "  max-width: 0;\n",
       "  overflow: hidden;\n",
       "  text-align: left;\n",
       "  /* unfitted */\n",
       "  background-color: var(--sklearn-color-unfitted-level-0);\n",
       "}\n",
       "\n",
       "#sk-container-id-2 div.sk-toggleable__content.fitted {\n",
       "  /* fitted */\n",
       "  background-color: var(--sklearn-color-fitted-level-0);\n",
       "}\n",
       "\n",
       "#sk-container-id-2 div.sk-toggleable__content pre {\n",
       "  margin: 0.2em;\n",
       "  border-radius: 0.25em;\n",
       "  color: var(--sklearn-color-text);\n",
       "  /* unfitted */\n",
       "  background-color: var(--sklearn-color-unfitted-level-0);\n",
       "}\n",
       "\n",
       "#sk-container-id-2 div.sk-toggleable__content.fitted pre {\n",
       "  /* unfitted */\n",
       "  background-color: var(--sklearn-color-fitted-level-0);\n",
       "}\n",
       "\n",
       "#sk-container-id-2 input.sk-toggleable__control:checked~div.sk-toggleable__content {\n",
       "  /* Expand drop-down */\n",
       "  max-height: 200px;\n",
       "  max-width: 100%;\n",
       "  overflow: auto;\n",
       "}\n",
       "\n",
       "#sk-container-id-2 input.sk-toggleable__control:checked~label.sk-toggleable__label-arrow:before {\n",
       "  content: \"▾\";\n",
       "}\n",
       "\n",
       "/* Pipeline/ColumnTransformer-specific style */\n",
       "\n",
       "#sk-container-id-2 div.sk-label input.sk-toggleable__control:checked~label.sk-toggleable__label {\n",
       "  color: var(--sklearn-color-text);\n",
       "  background-color: var(--sklearn-color-unfitted-level-2);\n",
       "}\n",
       "\n",
       "#sk-container-id-2 div.sk-label.fitted input.sk-toggleable__control:checked~label.sk-toggleable__label {\n",
       "  background-color: var(--sklearn-color-fitted-level-2);\n",
       "}\n",
       "\n",
       "/* Estimator-specific style */\n",
       "\n",
       "/* Colorize estimator box */\n",
       "#sk-container-id-2 div.sk-estimator input.sk-toggleable__control:checked~label.sk-toggleable__label {\n",
       "  /* unfitted */\n",
       "  background-color: var(--sklearn-color-unfitted-level-2);\n",
       "}\n",
       "\n",
       "#sk-container-id-2 div.sk-estimator.fitted input.sk-toggleable__control:checked~label.sk-toggleable__label {\n",
       "  /* fitted */\n",
       "  background-color: var(--sklearn-color-fitted-level-2);\n",
       "}\n",
       "\n",
       "#sk-container-id-2 div.sk-label label.sk-toggleable__label,\n",
       "#sk-container-id-2 div.sk-label label {\n",
       "  /* The background is the default theme color */\n",
       "  color: var(--sklearn-color-text-on-default-background);\n",
       "}\n",
       "\n",
       "/* On hover, darken the color of the background */\n",
       "#sk-container-id-2 div.sk-label:hover label.sk-toggleable__label {\n",
       "  color: var(--sklearn-color-text);\n",
       "  background-color: var(--sklearn-color-unfitted-level-2);\n",
       "}\n",
       "\n",
       "/* Label box, darken color on hover, fitted */\n",
       "#sk-container-id-2 div.sk-label.fitted:hover label.sk-toggleable__label.fitted {\n",
       "  color: var(--sklearn-color-text);\n",
       "  background-color: var(--sklearn-color-fitted-level-2);\n",
       "}\n",
       "\n",
       "/* Estimator label */\n",
       "\n",
       "#sk-container-id-2 div.sk-label label {\n",
       "  font-family: monospace;\n",
       "  font-weight: bold;\n",
       "  display: inline-block;\n",
       "  line-height: 1.2em;\n",
       "}\n",
       "\n",
       "#sk-container-id-2 div.sk-label-container {\n",
       "  text-align: center;\n",
       "}\n",
       "\n",
       "/* Estimator-specific */\n",
       "#sk-container-id-2 div.sk-estimator {\n",
       "  font-family: monospace;\n",
       "  border: 1px dotted var(--sklearn-color-border-box);\n",
       "  border-radius: 0.25em;\n",
       "  box-sizing: border-box;\n",
       "  margin-bottom: 0.5em;\n",
       "  /* unfitted */\n",
       "  background-color: var(--sklearn-color-unfitted-level-0);\n",
       "}\n",
       "\n",
       "#sk-container-id-2 div.sk-estimator.fitted {\n",
       "  /* fitted */\n",
       "  background-color: var(--sklearn-color-fitted-level-0);\n",
       "}\n",
       "\n",
       "/* on hover */\n",
       "#sk-container-id-2 div.sk-estimator:hover {\n",
       "  /* unfitted */\n",
       "  background-color: var(--sklearn-color-unfitted-level-2);\n",
       "}\n",
       "\n",
       "#sk-container-id-2 div.sk-estimator.fitted:hover {\n",
       "  /* fitted */\n",
       "  background-color: var(--sklearn-color-fitted-level-2);\n",
       "}\n",
       "\n",
       "/* Specification for estimator info (e.g. \"i\" and \"?\") */\n",
       "\n",
       "/* Common style for \"i\" and \"?\" */\n",
       "\n",
       ".sk-estimator-doc-link,\n",
       "a:link.sk-estimator-doc-link,\n",
       "a:visited.sk-estimator-doc-link {\n",
       "  float: right;\n",
       "  font-size: smaller;\n",
       "  line-height: 1em;\n",
       "  font-family: monospace;\n",
       "  background-color: var(--sklearn-color-background);\n",
       "  border-radius: 1em;\n",
       "  height: 1em;\n",
       "  width: 1em;\n",
       "  text-decoration: none !important;\n",
       "  margin-left: 1ex;\n",
       "  /* unfitted */\n",
       "  border: var(--sklearn-color-unfitted-level-1) 1pt solid;\n",
       "  color: var(--sklearn-color-unfitted-level-1);\n",
       "}\n",
       "\n",
       ".sk-estimator-doc-link.fitted,\n",
       "a:link.sk-estimator-doc-link.fitted,\n",
       "a:visited.sk-estimator-doc-link.fitted {\n",
       "  /* fitted */\n",
       "  border: var(--sklearn-color-fitted-level-1) 1pt solid;\n",
       "  color: var(--sklearn-color-fitted-level-1);\n",
       "}\n",
       "\n",
       "/* On hover */\n",
       "div.sk-estimator:hover .sk-estimator-doc-link:hover,\n",
       ".sk-estimator-doc-link:hover,\n",
       "div.sk-label-container:hover .sk-estimator-doc-link:hover,\n",
       ".sk-estimator-doc-link:hover {\n",
       "  /* unfitted */\n",
       "  background-color: var(--sklearn-color-unfitted-level-3);\n",
       "  color: var(--sklearn-color-background);\n",
       "  text-decoration: none;\n",
       "}\n",
       "\n",
       "div.sk-estimator.fitted:hover .sk-estimator-doc-link.fitted:hover,\n",
       ".sk-estimator-doc-link.fitted:hover,\n",
       "div.sk-label-container:hover .sk-estimator-doc-link.fitted:hover,\n",
       ".sk-estimator-doc-link.fitted:hover {\n",
       "  /* fitted */\n",
       "  background-color: var(--sklearn-color-fitted-level-3);\n",
       "  color: var(--sklearn-color-background);\n",
       "  text-decoration: none;\n",
       "}\n",
       "\n",
       "/* Span, style for the box shown on hovering the info icon */\n",
       ".sk-estimator-doc-link span {\n",
       "  display: none;\n",
       "  z-index: 9999;\n",
       "  position: relative;\n",
       "  font-weight: normal;\n",
       "  right: .2ex;\n",
       "  padding: .5ex;\n",
       "  margin: .5ex;\n",
       "  width: min-content;\n",
       "  min-width: 20ex;\n",
       "  max-width: 50ex;\n",
       "  color: var(--sklearn-color-text);\n",
       "  box-shadow: 2pt 2pt 4pt #999;\n",
       "  /* unfitted */\n",
       "  background: var(--sklearn-color-unfitted-level-0);\n",
       "  border: .5pt solid var(--sklearn-color-unfitted-level-3);\n",
       "}\n",
       "\n",
       ".sk-estimator-doc-link.fitted span {\n",
       "  /* fitted */\n",
       "  background: var(--sklearn-color-fitted-level-0);\n",
       "  border: var(--sklearn-color-fitted-level-3);\n",
       "}\n",
       "\n",
       ".sk-estimator-doc-link:hover span {\n",
       "  display: block;\n",
       "}\n",
       "\n",
       "/* \"?\"-specific style due to the `<a>` HTML tag */\n",
       "\n",
       "#sk-container-id-2 a.estimator_doc_link {\n",
       "  float: right;\n",
       "  font-size: 1rem;\n",
       "  line-height: 1em;\n",
       "  font-family: monospace;\n",
       "  background-color: var(--sklearn-color-background);\n",
       "  border-radius: 1rem;\n",
       "  height: 1rem;\n",
       "  width: 1rem;\n",
       "  text-decoration: none;\n",
       "  /* unfitted */\n",
       "  color: var(--sklearn-color-unfitted-level-1);\n",
       "  border: var(--sklearn-color-unfitted-level-1) 1pt solid;\n",
       "}\n",
       "\n",
       "#sk-container-id-2 a.estimator_doc_link.fitted {\n",
       "  /* fitted */\n",
       "  border: var(--sklearn-color-fitted-level-1) 1pt solid;\n",
       "  color: var(--sklearn-color-fitted-level-1);\n",
       "}\n",
       "\n",
       "/* On hover */\n",
       "#sk-container-id-2 a.estimator_doc_link:hover {\n",
       "  /* unfitted */\n",
       "  background-color: var(--sklearn-color-unfitted-level-3);\n",
       "  color: var(--sklearn-color-background);\n",
       "  text-decoration: none;\n",
       "}\n",
       "\n",
       "#sk-container-id-2 a.estimator_doc_link.fitted:hover {\n",
       "  /* fitted */\n",
       "  background-color: var(--sklearn-color-fitted-level-3);\n",
       "}\n",
       "</style><div id=\"sk-container-id-2\" class=\"sk-top-container\"><div class=\"sk-text-repr-fallback\"><pre>TfidfVectorizer(max_df=0.9, min_df=0.1, ngram_range=(1, 3),\n",
       "                vocabulary=[&#x27;cnv&#x27;, &#x27;ex ministro&#x27;, &#x27;anécdota familiar&#x27;, &#x27;espejo&#x27;,\n",
       "                            &#x27;eloy elgueta&#x27;, &#x27;defensa jorge&#x27;,\n",
       "                            &#x27;arístides villanueva&#x27;, &#x27;estrellas&#x27;,\n",
       "                            &#x27;sencilla operación&#x27;, &#x27;frío&#x27;,\n",
       "                            &#x27;trabajadores municipales&#x27;, &#x27;receso invernal&#x27;,\n",
       "                            &#x27;falsas promesas&#x27;, &#x27;guillermo gammacurta&#x27;,\n",
       "                            &#x27;aplicación&#x27;, &#x27;mesa distinta&#x27;, &#x27;exposición&#x27;,\n",
       "                            &#x27;raúl jalil&#x27;, &#x27;ahínco&#x27;, &#x27;música popular&#x27;,\n",
       "                            &#x27;una generación&#x27;, &#x27;horror&#x27;, &#x27;sociedades&#x27;,\n",
       "                            &#x27;texto oculta&#x27;, &#x27;la acusación&#x27;, &#x27;la realidad&#x27;,\n",
       "                            &#x27;motivaciones&#x27;, &#x27;julián alvarez&#x27;,\n",
       "                            &#x27;santiago maggiotti&#x27;, &#x27;gandolfo&#x27;, ...])</pre><b>In a Jupyter environment, please rerun this cell to show the HTML representation or trust the notebook. <br />On GitHub, the HTML representation is unable to render, please try loading this page with nbviewer.org.</b></div><div class=\"sk-container\" hidden><div class=\"sk-item\"><div class=\"sk-estimator fitted sk-toggleable\"><input class=\"sk-toggleable__control sk-hidden--visually\" id=\"sk-estimator-id-2\" type=\"checkbox\" checked><label for=\"sk-estimator-id-2\" class=\"sk-toggleable__label fitted sk-toggleable__label-arrow fitted\">&nbsp;&nbsp;TfidfVectorizer<a class=\"sk-estimator-doc-link fitted\" rel=\"noreferrer\" target=\"_blank\" href=\"https://scikit-learn.org/1.4/modules/generated/sklearn.feature_extraction.text.TfidfVectorizer.html\">?<span>Documentation for TfidfVectorizer</span></a><span class=\"sk-estimator-doc-link fitted\">i<span>Fitted</span></span></label><div class=\"sk-toggleable__content fitted\"><pre>TfidfVectorizer(max_df=0.9, min_df=0.1, ngram_range=(1, 3),\n",
       "                vocabulary=[&#x27;cnv&#x27;, &#x27;ex ministro&#x27;, &#x27;anécdota familiar&#x27;, &#x27;espejo&#x27;,\n",
       "                            &#x27;eloy elgueta&#x27;, &#x27;defensa jorge&#x27;,\n",
       "                            &#x27;arístides villanueva&#x27;, &#x27;estrellas&#x27;,\n",
       "                            &#x27;sencilla operación&#x27;, &#x27;frío&#x27;,\n",
       "                            &#x27;trabajadores municipales&#x27;, &#x27;receso invernal&#x27;,\n",
       "                            &#x27;falsas promesas&#x27;, &#x27;guillermo gammacurta&#x27;,\n",
       "                            &#x27;aplicación&#x27;, &#x27;mesa distinta&#x27;, &#x27;exposición&#x27;,\n",
       "                            &#x27;raúl jalil&#x27;, &#x27;ahínco&#x27;, &#x27;música popular&#x27;,\n",
       "                            &#x27;una generación&#x27;, &#x27;horror&#x27;, &#x27;sociedades&#x27;,\n",
       "                            &#x27;texto oculta&#x27;, &#x27;la acusación&#x27;, &#x27;la realidad&#x27;,\n",
       "                            &#x27;motivaciones&#x27;, &#x27;julián alvarez&#x27;,\n",
       "                            &#x27;santiago maggiotti&#x27;, &#x27;gandolfo&#x27;, ...])</pre></div> </div></div></div></div>"
      ],
      "text/plain": [
       "TfidfVectorizer(max_df=0.9, min_df=0.1, ngram_range=(1, 3),\n",
       "                vocabulary=['cnv', 'ex ministro', 'anécdota familiar', 'espejo',\n",
       "                            'eloy elgueta', 'defensa jorge',\n",
       "                            'arístides villanueva', 'estrellas',\n",
       "                            'sencilla operación', 'frío',\n",
       "                            'trabajadores municipales', 'receso invernal',\n",
       "                            'falsas promesas', 'guillermo gammacurta',\n",
       "                            'aplicación', 'mesa distinta', 'exposición',\n",
       "                            'raúl jalil', 'ahínco', 'música popular',\n",
       "                            'una generación', 'horror', 'sociedades',\n",
       "                            'texto oculta', 'la acusación', 'la realidad',\n",
       "                            'motivaciones', 'julián alvarez',\n",
       "                            'santiago maggiotti', 'gandolfo', ...])"
      ]
     },
     "execution_count": 25,
     "metadata": {},
     "output_type": "execute_result"
    }
   ],
   "source": [
    "data_train_1 = list(df_train_1['text']) \n",
    "tfidf_vectorizer_1 = TfidfVectorizer(\n",
    "        tokenizer=None,\n",
    "        max_df=0.9,\n",
    "        min_df=0.1,\n",
    "        ngram_range=(1, 3),\n",
    "        vocabulary=vocab_1,\n",
    ")\n",
    "tfidf_vectorizer_1.fit(data_train_1)"
   ]
  },
  {
   "cell_type": "code",
   "execution_count": 26,
   "metadata": {},
   "outputs": [
    {
     "data": {
      "text/html": [
       "<style>#sk-container-id-3 {\n",
       "  /* Definition of color scheme common for light and dark mode */\n",
       "  --sklearn-color-text: black;\n",
       "  --sklearn-color-line: gray;\n",
       "  /* Definition of color scheme for unfitted estimators */\n",
       "  --sklearn-color-unfitted-level-0: #fff5e6;\n",
       "  --sklearn-color-unfitted-level-1: #f6e4d2;\n",
       "  --sklearn-color-unfitted-level-2: #ffe0b3;\n",
       "  --sklearn-color-unfitted-level-3: chocolate;\n",
       "  /* Definition of color scheme for fitted estimators */\n",
       "  --sklearn-color-fitted-level-0: #f0f8ff;\n",
       "  --sklearn-color-fitted-level-1: #d4ebff;\n",
       "  --sklearn-color-fitted-level-2: #b3dbfd;\n",
       "  --sklearn-color-fitted-level-3: cornflowerblue;\n",
       "\n",
       "  /* Specific color for light theme */\n",
       "  --sklearn-color-text-on-default-background: var(--sg-text-color, var(--theme-code-foreground, var(--jp-content-font-color1, black)));\n",
       "  --sklearn-color-background: var(--sg-background-color, var(--theme-background, var(--jp-layout-color0, white)));\n",
       "  --sklearn-color-border-box: var(--sg-text-color, var(--theme-code-foreground, var(--jp-content-font-color1, black)));\n",
       "  --sklearn-color-icon: #696969;\n",
       "\n",
       "  @media (prefers-color-scheme: dark) {\n",
       "    /* Redefinition of color scheme for dark theme */\n",
       "    --sklearn-color-text-on-default-background: var(--sg-text-color, var(--theme-code-foreground, var(--jp-content-font-color1, white)));\n",
       "    --sklearn-color-background: var(--sg-background-color, var(--theme-background, var(--jp-layout-color0, #111)));\n",
       "    --sklearn-color-border-box: var(--sg-text-color, var(--theme-code-foreground, var(--jp-content-font-color1, white)));\n",
       "    --sklearn-color-icon: #878787;\n",
       "  }\n",
       "}\n",
       "\n",
       "#sk-container-id-3 {\n",
       "  color: var(--sklearn-color-text);\n",
       "}\n",
       "\n",
       "#sk-container-id-3 pre {\n",
       "  padding: 0;\n",
       "}\n",
       "\n",
       "#sk-container-id-3 input.sk-hidden--visually {\n",
       "  border: 0;\n",
       "  clip: rect(1px 1px 1px 1px);\n",
       "  clip: rect(1px, 1px, 1px, 1px);\n",
       "  height: 1px;\n",
       "  margin: -1px;\n",
       "  overflow: hidden;\n",
       "  padding: 0;\n",
       "  position: absolute;\n",
       "  width: 1px;\n",
       "}\n",
       "\n",
       "#sk-container-id-3 div.sk-dashed-wrapped {\n",
       "  border: 1px dashed var(--sklearn-color-line);\n",
       "  margin: 0 0.4em 0.5em 0.4em;\n",
       "  box-sizing: border-box;\n",
       "  padding-bottom: 0.4em;\n",
       "  background-color: var(--sklearn-color-background);\n",
       "}\n",
       "\n",
       "#sk-container-id-3 div.sk-container {\n",
       "  /* jupyter's `normalize.less` sets `[hidden] { display: none; }`\n",
       "     but bootstrap.min.css set `[hidden] { display: none !important; }`\n",
       "     so we also need the `!important` here to be able to override the\n",
       "     default hidden behavior on the sphinx rendered scikit-learn.org.\n",
       "     See: https://github.com/scikit-learn/scikit-learn/issues/21755 */\n",
       "  display: inline-block !important;\n",
       "  position: relative;\n",
       "}\n",
       "\n",
       "#sk-container-id-3 div.sk-text-repr-fallback {\n",
       "  display: none;\n",
       "}\n",
       "\n",
       "div.sk-parallel-item,\n",
       "div.sk-serial,\n",
       "div.sk-item {\n",
       "  /* draw centered vertical line to link estimators */\n",
       "  background-image: linear-gradient(var(--sklearn-color-text-on-default-background), var(--sklearn-color-text-on-default-background));\n",
       "  background-size: 2px 100%;\n",
       "  background-repeat: no-repeat;\n",
       "  background-position: center center;\n",
       "}\n",
       "\n",
       "/* Parallel-specific style estimator block */\n",
       "\n",
       "#sk-container-id-3 div.sk-parallel-item::after {\n",
       "  content: \"\";\n",
       "  width: 100%;\n",
       "  border-bottom: 2px solid var(--sklearn-color-text-on-default-background);\n",
       "  flex-grow: 1;\n",
       "}\n",
       "\n",
       "#sk-container-id-3 div.sk-parallel {\n",
       "  display: flex;\n",
       "  align-items: stretch;\n",
       "  justify-content: center;\n",
       "  background-color: var(--sklearn-color-background);\n",
       "  position: relative;\n",
       "}\n",
       "\n",
       "#sk-container-id-3 div.sk-parallel-item {\n",
       "  display: flex;\n",
       "  flex-direction: column;\n",
       "}\n",
       "\n",
       "#sk-container-id-3 div.sk-parallel-item:first-child::after {\n",
       "  align-self: flex-end;\n",
       "  width: 50%;\n",
       "}\n",
       "\n",
       "#sk-container-id-3 div.sk-parallel-item:last-child::after {\n",
       "  align-self: flex-start;\n",
       "  width: 50%;\n",
       "}\n",
       "\n",
       "#sk-container-id-3 div.sk-parallel-item:only-child::after {\n",
       "  width: 0;\n",
       "}\n",
       "\n",
       "/* Serial-specific style estimator block */\n",
       "\n",
       "#sk-container-id-3 div.sk-serial {\n",
       "  display: flex;\n",
       "  flex-direction: column;\n",
       "  align-items: center;\n",
       "  background-color: var(--sklearn-color-background);\n",
       "  padding-right: 1em;\n",
       "  padding-left: 1em;\n",
       "}\n",
       "\n",
       "\n",
       "/* Toggleable style: style used for estimator/Pipeline/ColumnTransformer box that is\n",
       "clickable and can be expanded/collapsed.\n",
       "- Pipeline and ColumnTransformer use this feature and define the default style\n",
       "- Estimators will overwrite some part of the style using the `sk-estimator` class\n",
       "*/\n",
       "\n",
       "/* Pipeline and ColumnTransformer style (default) */\n",
       "\n",
       "#sk-container-id-3 div.sk-toggleable {\n",
       "  /* Default theme specific background. It is overwritten whether we have a\n",
       "  specific estimator or a Pipeline/ColumnTransformer */\n",
       "  background-color: var(--sklearn-color-background);\n",
       "}\n",
       "\n",
       "/* Toggleable label */\n",
       "#sk-container-id-3 label.sk-toggleable__label {\n",
       "  cursor: pointer;\n",
       "  display: block;\n",
       "  width: 100%;\n",
       "  margin-bottom: 0;\n",
       "  padding: 0.5em;\n",
       "  box-sizing: border-box;\n",
       "  text-align: center;\n",
       "}\n",
       "\n",
       "#sk-container-id-3 label.sk-toggleable__label-arrow:before {\n",
       "  /* Arrow on the left of the label */\n",
       "  content: \"▸\";\n",
       "  float: left;\n",
       "  margin-right: 0.25em;\n",
       "  color: var(--sklearn-color-icon);\n",
       "}\n",
       "\n",
       "#sk-container-id-3 label.sk-toggleable__label-arrow:hover:before {\n",
       "  color: var(--sklearn-color-text);\n",
       "}\n",
       "\n",
       "/* Toggleable content - dropdown */\n",
       "\n",
       "#sk-container-id-3 div.sk-toggleable__content {\n",
       "  max-height: 0;\n",
       "  max-width: 0;\n",
       "  overflow: hidden;\n",
       "  text-align: left;\n",
       "  /* unfitted */\n",
       "  background-color: var(--sklearn-color-unfitted-level-0);\n",
       "}\n",
       "\n",
       "#sk-container-id-3 div.sk-toggleable__content.fitted {\n",
       "  /* fitted */\n",
       "  background-color: var(--sklearn-color-fitted-level-0);\n",
       "}\n",
       "\n",
       "#sk-container-id-3 div.sk-toggleable__content pre {\n",
       "  margin: 0.2em;\n",
       "  border-radius: 0.25em;\n",
       "  color: var(--sklearn-color-text);\n",
       "  /* unfitted */\n",
       "  background-color: var(--sklearn-color-unfitted-level-0);\n",
       "}\n",
       "\n",
       "#sk-container-id-3 div.sk-toggleable__content.fitted pre {\n",
       "  /* unfitted */\n",
       "  background-color: var(--sklearn-color-fitted-level-0);\n",
       "}\n",
       "\n",
       "#sk-container-id-3 input.sk-toggleable__control:checked~div.sk-toggleable__content {\n",
       "  /* Expand drop-down */\n",
       "  max-height: 200px;\n",
       "  max-width: 100%;\n",
       "  overflow: auto;\n",
       "}\n",
       "\n",
       "#sk-container-id-3 input.sk-toggleable__control:checked~label.sk-toggleable__label-arrow:before {\n",
       "  content: \"▾\";\n",
       "}\n",
       "\n",
       "/* Pipeline/ColumnTransformer-specific style */\n",
       "\n",
       "#sk-container-id-3 div.sk-label input.sk-toggleable__control:checked~label.sk-toggleable__label {\n",
       "  color: var(--sklearn-color-text);\n",
       "  background-color: var(--sklearn-color-unfitted-level-2);\n",
       "}\n",
       "\n",
       "#sk-container-id-3 div.sk-label.fitted input.sk-toggleable__control:checked~label.sk-toggleable__label {\n",
       "  background-color: var(--sklearn-color-fitted-level-2);\n",
       "}\n",
       "\n",
       "/* Estimator-specific style */\n",
       "\n",
       "/* Colorize estimator box */\n",
       "#sk-container-id-3 div.sk-estimator input.sk-toggleable__control:checked~label.sk-toggleable__label {\n",
       "  /* unfitted */\n",
       "  background-color: var(--sklearn-color-unfitted-level-2);\n",
       "}\n",
       "\n",
       "#sk-container-id-3 div.sk-estimator.fitted input.sk-toggleable__control:checked~label.sk-toggleable__label {\n",
       "  /* fitted */\n",
       "  background-color: var(--sklearn-color-fitted-level-2);\n",
       "}\n",
       "\n",
       "#sk-container-id-3 div.sk-label label.sk-toggleable__label,\n",
       "#sk-container-id-3 div.sk-label label {\n",
       "  /* The background is the default theme color */\n",
       "  color: var(--sklearn-color-text-on-default-background);\n",
       "}\n",
       "\n",
       "/* On hover, darken the color of the background */\n",
       "#sk-container-id-3 div.sk-label:hover label.sk-toggleable__label {\n",
       "  color: var(--sklearn-color-text);\n",
       "  background-color: var(--sklearn-color-unfitted-level-2);\n",
       "}\n",
       "\n",
       "/* Label box, darken color on hover, fitted */\n",
       "#sk-container-id-3 div.sk-label.fitted:hover label.sk-toggleable__label.fitted {\n",
       "  color: var(--sklearn-color-text);\n",
       "  background-color: var(--sklearn-color-fitted-level-2);\n",
       "}\n",
       "\n",
       "/* Estimator label */\n",
       "\n",
       "#sk-container-id-3 div.sk-label label {\n",
       "  font-family: monospace;\n",
       "  font-weight: bold;\n",
       "  display: inline-block;\n",
       "  line-height: 1.2em;\n",
       "}\n",
       "\n",
       "#sk-container-id-3 div.sk-label-container {\n",
       "  text-align: center;\n",
       "}\n",
       "\n",
       "/* Estimator-specific */\n",
       "#sk-container-id-3 div.sk-estimator {\n",
       "  font-family: monospace;\n",
       "  border: 1px dotted var(--sklearn-color-border-box);\n",
       "  border-radius: 0.25em;\n",
       "  box-sizing: border-box;\n",
       "  margin-bottom: 0.5em;\n",
       "  /* unfitted */\n",
       "  background-color: var(--sklearn-color-unfitted-level-0);\n",
       "}\n",
       "\n",
       "#sk-container-id-3 div.sk-estimator.fitted {\n",
       "  /* fitted */\n",
       "  background-color: var(--sklearn-color-fitted-level-0);\n",
       "}\n",
       "\n",
       "/* on hover */\n",
       "#sk-container-id-3 div.sk-estimator:hover {\n",
       "  /* unfitted */\n",
       "  background-color: var(--sklearn-color-unfitted-level-2);\n",
       "}\n",
       "\n",
       "#sk-container-id-3 div.sk-estimator.fitted:hover {\n",
       "  /* fitted */\n",
       "  background-color: var(--sklearn-color-fitted-level-2);\n",
       "}\n",
       "\n",
       "/* Specification for estimator info (e.g. \"i\" and \"?\") */\n",
       "\n",
       "/* Common style for \"i\" and \"?\" */\n",
       "\n",
       ".sk-estimator-doc-link,\n",
       "a:link.sk-estimator-doc-link,\n",
       "a:visited.sk-estimator-doc-link {\n",
       "  float: right;\n",
       "  font-size: smaller;\n",
       "  line-height: 1em;\n",
       "  font-family: monospace;\n",
       "  background-color: var(--sklearn-color-background);\n",
       "  border-radius: 1em;\n",
       "  height: 1em;\n",
       "  width: 1em;\n",
       "  text-decoration: none !important;\n",
       "  margin-left: 1ex;\n",
       "  /* unfitted */\n",
       "  border: var(--sklearn-color-unfitted-level-1) 1pt solid;\n",
       "  color: var(--sklearn-color-unfitted-level-1);\n",
       "}\n",
       "\n",
       ".sk-estimator-doc-link.fitted,\n",
       "a:link.sk-estimator-doc-link.fitted,\n",
       "a:visited.sk-estimator-doc-link.fitted {\n",
       "  /* fitted */\n",
       "  border: var(--sklearn-color-fitted-level-1) 1pt solid;\n",
       "  color: var(--sklearn-color-fitted-level-1);\n",
       "}\n",
       "\n",
       "/* On hover */\n",
       "div.sk-estimator:hover .sk-estimator-doc-link:hover,\n",
       ".sk-estimator-doc-link:hover,\n",
       "div.sk-label-container:hover .sk-estimator-doc-link:hover,\n",
       ".sk-estimator-doc-link:hover {\n",
       "  /* unfitted */\n",
       "  background-color: var(--sklearn-color-unfitted-level-3);\n",
       "  color: var(--sklearn-color-background);\n",
       "  text-decoration: none;\n",
       "}\n",
       "\n",
       "div.sk-estimator.fitted:hover .sk-estimator-doc-link.fitted:hover,\n",
       ".sk-estimator-doc-link.fitted:hover,\n",
       "div.sk-label-container:hover .sk-estimator-doc-link.fitted:hover,\n",
       ".sk-estimator-doc-link.fitted:hover {\n",
       "  /* fitted */\n",
       "  background-color: var(--sklearn-color-fitted-level-3);\n",
       "  color: var(--sklearn-color-background);\n",
       "  text-decoration: none;\n",
       "}\n",
       "\n",
       "/* Span, style for the box shown on hovering the info icon */\n",
       ".sk-estimator-doc-link span {\n",
       "  display: none;\n",
       "  z-index: 9999;\n",
       "  position: relative;\n",
       "  font-weight: normal;\n",
       "  right: .2ex;\n",
       "  padding: .5ex;\n",
       "  margin: .5ex;\n",
       "  width: min-content;\n",
       "  min-width: 20ex;\n",
       "  max-width: 50ex;\n",
       "  color: var(--sklearn-color-text);\n",
       "  box-shadow: 2pt 2pt 4pt #999;\n",
       "  /* unfitted */\n",
       "  background: var(--sklearn-color-unfitted-level-0);\n",
       "  border: .5pt solid var(--sklearn-color-unfitted-level-3);\n",
       "}\n",
       "\n",
       ".sk-estimator-doc-link.fitted span {\n",
       "  /* fitted */\n",
       "  background: var(--sklearn-color-fitted-level-0);\n",
       "  border: var(--sklearn-color-fitted-level-3);\n",
       "}\n",
       "\n",
       ".sk-estimator-doc-link:hover span {\n",
       "  display: block;\n",
       "}\n",
       "\n",
       "/* \"?\"-specific style due to the `<a>` HTML tag */\n",
       "\n",
       "#sk-container-id-3 a.estimator_doc_link {\n",
       "  float: right;\n",
       "  font-size: 1rem;\n",
       "  line-height: 1em;\n",
       "  font-family: monospace;\n",
       "  background-color: var(--sklearn-color-background);\n",
       "  border-radius: 1rem;\n",
       "  height: 1rem;\n",
       "  width: 1rem;\n",
       "  text-decoration: none;\n",
       "  /* unfitted */\n",
       "  color: var(--sklearn-color-unfitted-level-1);\n",
       "  border: var(--sklearn-color-unfitted-level-1) 1pt solid;\n",
       "}\n",
       "\n",
       "#sk-container-id-3 a.estimator_doc_link.fitted {\n",
       "  /* fitted */\n",
       "  border: var(--sklearn-color-fitted-level-1) 1pt solid;\n",
       "  color: var(--sklearn-color-fitted-level-1);\n",
       "}\n",
       "\n",
       "/* On hover */\n",
       "#sk-container-id-3 a.estimator_doc_link:hover {\n",
       "  /* unfitted */\n",
       "  background-color: var(--sklearn-color-unfitted-level-3);\n",
       "  color: var(--sklearn-color-background);\n",
       "  text-decoration: none;\n",
       "}\n",
       "\n",
       "#sk-container-id-3 a.estimator_doc_link.fitted:hover {\n",
       "  /* fitted */\n",
       "  background-color: var(--sklearn-color-fitted-level-3);\n",
       "}\n",
       "</style><div id=\"sk-container-id-3\" class=\"sk-top-container\"><div class=\"sk-text-repr-fallback\"><pre>TfidfVectorizer(max_df=0.9, min_df=0.1, ngram_range=(1, 3),\n",
       "                vocabulary=[&#x27;ejercicios&#x27;, &#x27;espejo&#x27;, &#x27;violadores&#x27;, &#x27;mártir&#x27;,\n",
       "                            &#x27;garganta&#x27;, &#x27;carolina domenech&#x27;, &#x27;el maíz&#x27;,\n",
       "                            &#x27;estrellas&#x27;, &#x27;masiva llegada&#x27;, &#x27;vélez&#x27;,\n",
       "                            &#x27;receso invernal&#x27;, &#x27;futuro goleador&#x27;,\n",
       "                            &#x27;falsas promesas&#x27;, &#x27;empleados de comercio&#x27;,\n",
       "                            &#x27;guillermo gammacurta&#x27;, &#x27;oim&#x27;, &#x27;ucla&#x27;, &#x27;aplicación&#x27;,\n",
       "                            &#x27;aoma&#x27;, &#x27;competencia interna&#x27;, &#x27;aula&#x27;, &#x27;exposición&#x27;,\n",
       "                            &#x27;bombardeos israelíes&#x27;, &#x27;apa&#x27;, &#x27;ecografías&#x27;,\n",
       "                            &#x27;san nicolás&#x27;, &#x27;horror&#x27;, &#x27;diversos episodios&#x27;,\n",
       "                            &#x27;sociedades&#x27;, &#x27;profesionales altamente capacitados&#x27;, ...])</pre><b>In a Jupyter environment, please rerun this cell to show the HTML representation or trust the notebook. <br />On GitHub, the HTML representation is unable to render, please try loading this page with nbviewer.org.</b></div><div class=\"sk-container\" hidden><div class=\"sk-item\"><div class=\"sk-estimator fitted sk-toggleable\"><input class=\"sk-toggleable__control sk-hidden--visually\" id=\"sk-estimator-id-3\" type=\"checkbox\" checked><label for=\"sk-estimator-id-3\" class=\"sk-toggleable__label fitted sk-toggleable__label-arrow fitted\">&nbsp;&nbsp;TfidfVectorizer<a class=\"sk-estimator-doc-link fitted\" rel=\"noreferrer\" target=\"_blank\" href=\"https://scikit-learn.org/1.4/modules/generated/sklearn.feature_extraction.text.TfidfVectorizer.html\">?<span>Documentation for TfidfVectorizer</span></a><span class=\"sk-estimator-doc-link fitted\">i<span>Fitted</span></span></label><div class=\"sk-toggleable__content fitted\"><pre>TfidfVectorizer(max_df=0.9, min_df=0.1, ngram_range=(1, 3),\n",
       "                vocabulary=[&#x27;ejercicios&#x27;, &#x27;espejo&#x27;, &#x27;violadores&#x27;, &#x27;mártir&#x27;,\n",
       "                            &#x27;garganta&#x27;, &#x27;carolina domenech&#x27;, &#x27;el maíz&#x27;,\n",
       "                            &#x27;estrellas&#x27;, &#x27;masiva llegada&#x27;, &#x27;vélez&#x27;,\n",
       "                            &#x27;receso invernal&#x27;, &#x27;futuro goleador&#x27;,\n",
       "                            &#x27;falsas promesas&#x27;, &#x27;empleados de comercio&#x27;,\n",
       "                            &#x27;guillermo gammacurta&#x27;, &#x27;oim&#x27;, &#x27;ucla&#x27;, &#x27;aplicación&#x27;,\n",
       "                            &#x27;aoma&#x27;, &#x27;competencia interna&#x27;, &#x27;aula&#x27;, &#x27;exposición&#x27;,\n",
       "                            &#x27;bombardeos israelíes&#x27;, &#x27;apa&#x27;, &#x27;ecografías&#x27;,\n",
       "                            &#x27;san nicolás&#x27;, &#x27;horror&#x27;, &#x27;diversos episodios&#x27;,\n",
       "                            &#x27;sociedades&#x27;, &#x27;profesionales altamente capacitados&#x27;, ...])</pre></div> </div></div></div></div>"
      ],
      "text/plain": [
       "TfidfVectorizer(max_df=0.9, min_df=0.1, ngram_range=(1, 3),\n",
       "                vocabulary=['ejercicios', 'espejo', 'violadores', 'mártir',\n",
       "                            'garganta', 'carolina domenech', 'el maíz',\n",
       "                            'estrellas', 'masiva llegada', 'vélez',\n",
       "                            'receso invernal', 'futuro goleador',\n",
       "                            'falsas promesas', 'empleados de comercio',\n",
       "                            'guillermo gammacurta', 'oim', 'ucla', 'aplicación',\n",
       "                            'aoma', 'competencia interna', 'aula', 'exposición',\n",
       "                            'bombardeos israelíes', 'apa', 'ecografías',\n",
       "                            'san nicolás', 'horror', 'diversos episodios',\n",
       "                            'sociedades', 'profesionales altamente capacitados', ...])"
      ]
     },
     "execution_count": 26,
     "metadata": {},
     "output_type": "execute_result"
    }
   ],
   "source": [
    "data_train_2= list(df_train_2['text'])\n",
    "\n",
    "tfidf_vectorizer_2 = TfidfVectorizer(\n",
    "        tokenizer=None,\n",
    "        max_df=0.9,\n",
    "        min_df=0.1,\n",
    "        ngram_range=(1, 3),\n",
    "        vocabulary=vocab_2,\n",
    ")\n",
    "\n",
    "tfidf_vectorizer_2.fit(data_train_2)"
   ]
  },
  {
   "cell_type": "markdown",
   "metadata": {},
   "source": [
    "### Limpio el texto de las noticias."
   ]
  },
  {
   "cell_type": "code",
   "execution_count": 21,
   "metadata": {},
   "outputs": [
    {
     "name": "stderr",
     "output_type": "stream",
     "text": [
      "100%|██████████| 500/500 [00:02<00:00, 245.75it/s]\n",
      "100%|██████████| 500/500 [00:02<00:00, 218.11it/s]\n"
     ]
    }
   ],
   "source": [
    "proc_data_text_1 =  limpieza_texto(df_train_1, SPANISH_STOPWORDS, SPANISH_STOPWORDS_PARTICULAR)\n",
    "proc_data_text_2 =  limpieza_texto(df_train_2, SPANISH_STOPWORDS, SPANISH_STOPWORDS_PARTICULAR)\n",
    "    "
   ]
  },
  {
   "cell_type": "markdown",
   "metadata": {},
   "source": [
    "### Inicializamos el modelo para los corpus 1 y 2.  "
   ]
  },
  {
   "cell_type": "code",
   "execution_count": 22,
   "metadata": {},
   "outputs": [],
   "source": [
    "#Pasos Comunes. \n",
    "\n",
    "#Step 1 - Extract embeddings\n",
    "embedding_model = SentenceTransformer(\"paraphrase-multilingual-MiniLM-L12-v2\")\n",
    "# Step 2 - Reduce dimensionality\n",
    "umap_model = UMAP(n_neighbors=15, n_components=5, min_dist=0.0, metric='cosine', random_state=42)\n",
    "# Step 3 - Cluster reduced embeddings\n",
    "hdbscan_model = HDBSCAN(min_cluster_size=10, metric='euclidean', cluster_selection_method='eom', prediction_data=True)\n",
    "# Step 5 - Create topic representation\n",
    "ctfidf_model = ClassTfidfTransformer()"
   ]
  },
  {
   "cell_type": "code",
   "execution_count": 28,
   "metadata": {},
   "outputs": [],
   "source": [
    "# Step 4 - Tokenize topics\n",
    "vectorizer_model_1= tfidf_vectorizer_1\n",
    "\n",
    "\n",
    "\n",
    "topic_model_1 = BERTopic(\n",
    "  embedding_model=embedding_model,              \n",
    "  umap_model=umap_model,                        \n",
    "  hdbscan_model=hdbscan_model,                  \n",
    "  vectorizer_model=vectorizer_model_1,         \n",
    "  ctfidf_model=ctfidf_model,                    \n",
    "  verbose=True,\n",
    "  #calculate_probabilities=True\n",
    ")\n",
    "\n"
   ]
  },
  {
   "cell_type": "code",
   "execution_count": 27,
   "metadata": {},
   "outputs": [],
   "source": [
    "# Step 4 - Tokenize topics\n",
    "vectorizer_model_2= tfidf_vectorizer_2\n",
    "\n",
    "topic_model_2 = BERTopic(\n",
    "  embedding_model=embedding_model,              \n",
    "  umap_model=umap_model,                        \n",
    "  hdbscan_model=hdbscan_model,                  \n",
    "  vectorizer_model=vectorizer_model_2,         \n",
    "  ctfidf_model=ctfidf_model,                    \n",
    "  verbose=True,\n",
    "  #calculate_probabilities=True\n",
    ")"
   ]
  },
  {
   "cell_type": "markdown",
   "metadata": {},
   "source": [
    "### Entrenamiento y guardado."
   ]
  },
  {
   "cell_type": "code",
   "execution_count": 29,
   "metadata": {},
   "outputs": [
    {
     "name": "stderr",
     "output_type": "stream",
     "text": [
      "2024-09-30 11:18:59,262 - BERTopic - Embedding - Transforming documents to embeddings.\n"
     ]
    },
    {
     "data": {
      "application/vnd.jupyter.widget-view+json": {
       "model_id": "ccabf560ab874250a1f8564043ba6867",
       "version_major": 2,
       "version_minor": 0
      },
      "text/plain": [
       "Batches:   0%|          | 0/16 [00:00<?, ?it/s]"
      ]
     },
     "metadata": {},
     "output_type": "display_data"
    },
    {
     "name": "stderr",
     "output_type": "stream",
     "text": [
      "2024-09-30 11:19:54,151 - BERTopic - Embedding - Completed ✓\n",
      "2024-09-30 11:19:54,153 - BERTopic - Dimensionality - Fitting the dimensionality reduction algorithm\n",
      "2024-09-30 11:20:08,360 - BERTopic - Dimensionality - Completed ✓\n",
      "2024-09-30 11:20:08,360 - BERTopic - Cluster - Start clustering the reduced embeddings\n",
      "2024-09-30 11:20:08,441 - BERTopic - Cluster - Completed ✓\n",
      "2024-09-30 11:20:08,461 - BERTopic - Representation - Extracting topics from clusters using representation models.\n",
      "c:\\Users\\amunoz\\AppData\\Local\\anaconda3\\envs\\topics\\Lib\\site-packages\\bertopic\\vectorizers\\_ctfidf.py:82: RuntimeWarning: divide by zero encountered in divide\n",
      "  idf = np.log((avg_nr_samples / df)+1)\n",
      "2024-09-30 11:20:08,808 - BERTopic - Representation - Completed ✓\n",
      "2024-09-30 11:20:09,042 - BERTopic - Embedding - Transforming documents to embeddings.\n"
     ]
    },
    {
     "data": {
      "application/vnd.jupyter.widget-view+json": {
       "model_id": "fc340979c95c42afbcbea428b275f85f",
       "version_major": 2,
       "version_minor": 0
      },
      "text/plain": [
       "Batches:   0%|          | 0/16 [00:00<?, ?it/s]"
      ]
     },
     "metadata": {},
     "output_type": "display_data"
    },
    {
     "name": "stderr",
     "output_type": "stream",
     "text": [
      "2024-09-30 11:20:59,866 - BERTopic - Embedding - Completed ✓\n",
      "2024-09-30 11:20:59,868 - BERTopic - Dimensionality - Fitting the dimensionality reduction algorithm\n",
      "2024-09-30 11:21:02,325 - BERTopic - Dimensionality - Completed ✓\n",
      "2024-09-30 11:21:02,325 - BERTopic - Cluster - Start clustering the reduced embeddings\n",
      "2024-09-30 11:21:02,364 - BERTopic - Cluster - Completed ✓\n",
      "2024-09-30 11:21:02,364 - BERTopic - Representation - Extracting topics from clusters using representation models.\n",
      "c:\\Users\\amunoz\\AppData\\Local\\anaconda3\\envs\\topics\\Lib\\site-packages\\bertopic\\vectorizers\\_ctfidf.py:82: RuntimeWarning: divide by zero encountered in divide\n",
      "  idf = np.log((avg_nr_samples / df)+1)\n",
      "2024-09-30 11:21:02,689 - BERTopic - Representation - Completed ✓\n"
     ]
    }
   ],
   "source": [
    "topics_1, probs_1 = train_function(topic_model_1, proc_data_text_1)\n",
    "topics_2, probs_2 = train_function(topic_model_2, proc_data_text_2)"
   ]
  },
  {
   "cell_type": "code",
   "execution_count": 30,
   "metadata": {},
   "outputs": [
    {
     "name": "stderr",
     "output_type": "stream",
     "text": [
      "2024-09-30 11:21:08,521 - BERTopic - WARNING: When you use `pickle` to save/load a BERTopic model,please make sure that the environments in which you saveand load the model are **exactly** the same. The version of BERTopic,its dependencies, and python need to remain the same.\n",
      "2024-09-30 11:21:42,333 - BERTopic - WARNING: When you use `pickle` to save/load a BERTopic model,please make sure that the environments in which you saveand load the model are **exactly** the same. The version of BERTopic,its dependencies, and python need to remain the same.\n"
     ]
    }
   ],
   "source": [
    "topic_model_1.save(r\"C:\\Users\\amunoz\\Desktop\\NLP_2024\\TP\"+ \"\\modelo_1\")\n",
    "topic_model_2.save(r\"C:\\Users\\amunoz\\Desktop\\NLP_2024\\TP\"+ \"\\modelo_2\")"
   ]
  },
  {
   "cell_type": "code",
   "execution_count": 31,
   "metadata": {},
   "outputs": [],
   "source": [
    "#Levanto el modelo guardado.\n",
    "topic_model_1 = BERTopic.load(r\"C:\\Users\\amunoz\\Desktop\\NLP_2024\\TP\"+ \"\\modelo_1\")\n",
    "topic_model_2 = BERTopic.load(r\"C:\\Users\\amunoz\\Desktop\\NLP_2024\\TP\"+ \"\\modelo_2\")"
   ]
  },
  {
   "cell_type": "markdown",
   "metadata": {},
   "source": [
    "### Algunos resultados. "
   ]
  },
  {
   "cell_type": "code",
   "execution_count": 32,
   "metadata": {},
   "outputs": [
    {
     "name": "stdout",
     "output_type": "stream",
     "text": [
      "La cantidad de topicos, incluyendo al topico -1, para la fecha 2024-07-15 es 3\n",
      "   Topic  Count\n",
      "0      0    473\n",
      "1      1     17\n",
      "2     -1     10\n",
      "La cantidad de topicos, incluyendo al topico -1, para la fecha 2024-07-20 es 7\n",
      "   Topic  Count\n",
      "1      0    211\n",
      "0     -1    117\n",
      "4      1     77\n",
      "2      2     47\n",
      "3      3     23\n",
      "6      4     14\n",
      "5      5     11\n"
     ]
    }
   ],
   "source": [
    "tabla_frecuencia(topic_model_1, \"2024-07-15\")\n",
    "tabla_frecuencia(topic_model_2, '2024-07-20' )"
   ]
  },
  {
   "cell_type": "code",
   "execution_count": 33,
   "metadata": {},
   "outputs": [
    {
     "data": {
      "text/html": [
       "<div>\n",
       "<style scoped>\n",
       "    .dataframe tbody tr th:only-of-type {\n",
       "        vertical-align: middle;\n",
       "    }\n",
       "\n",
       "    .dataframe tbody tr th {\n",
       "        vertical-align: top;\n",
       "    }\n",
       "\n",
       "    .dataframe thead th {\n",
       "        text-align: right;\n",
       "    }\n",
       "</style>\n",
       "<table border=\"1\" class=\"dataframe\">\n",
       "  <thead>\n",
       "    <tr style=\"text-align: right;\">\n",
       "      <th></th>\n",
       "      <th>topicos</th>\n",
       "      <th>probabilidad de pertenencia</th>\n",
       "      <th>Texto</th>\n",
       "    </tr>\n",
       "  </thead>\n",
       "  <tbody>\n",
       "    <tr>\n",
       "      <th>0</th>\n",
       "      <td>0</td>\n",
       "      <td>0.985309</td>\n",
       "      <td>Pablo Ibánez Victoria Villarruel entra sale pl...</td>\n",
       "    </tr>\n",
       "    <tr>\n",
       "      <th>1</th>\n",
       "      <td>0</td>\n",
       "      <td>1.000000</td>\n",
       "      <td>nena arrojó auto Ramallo asistida presentes em...</td>\n",
       "    </tr>\n",
       "    <tr>\n",
       "      <th>2</th>\n",
       "      <td>0</td>\n",
       "      <td>0.638761</td>\n",
       "      <td>redefinición jazz revolucionario toque trompet...</td>\n",
       "    </tr>\n",
       "    <tr>\n",
       "      <th>3</th>\n",
       "      <td>0</td>\n",
       "      <td>1.000000</td>\n",
       "      <td>Efectivos Prefectura Naval buscaban domingo tr...</td>\n",
       "    </tr>\n",
       "    <tr>\n",
       "      <th>4</th>\n",
       "      <td>0</td>\n",
       "      <td>1.000000</td>\n",
       "      <td>Configurá notificaciones cuerdo tus temas inte...</td>\n",
       "    </tr>\n",
       "    <tr>\n",
       "      <th>5</th>\n",
       "      <td>0</td>\n",
       "      <td>1.000000</td>\n",
       "      <td>Instituto Seguridad Social Seguros ISSyS anunc...</td>\n",
       "    </tr>\n",
       "    <tr>\n",
       "      <th>6</th>\n",
       "      <td>0</td>\n",
       "      <td>1.000000</td>\n",
       "      <td>dólar MEP cae $1 335 contado liquidación $1 35...</td>\n",
       "    </tr>\n",
       "    <tr>\n",
       "      <th>7</th>\n",
       "      <td>0</td>\n",
       "      <td>1.000000</td>\n",
       "      <td>Instituto Nacional Tecnología Agropecuaria INT...</td>\n",
       "    </tr>\n",
       "    <tr>\n",
       "      <th>8</th>\n",
       "      <td>0</td>\n",
       "      <td>1.000000</td>\n",
       "      <td>Policía Federal Argentina PFA dependiente Mini...</td>\n",
       "    </tr>\n",
       "    <tr>\n",
       "      <th>9</th>\n",
       "      <td>0</td>\n",
       "      <td>1.000000</td>\n",
       "      <td>Lunes 15 Julio 2024 Actualizada 13 54hs 15 07 ...</td>\n",
       "    </tr>\n",
       "    <tr>\n",
       "      <th>10</th>\n",
       "      <td>0</td>\n",
       "      <td>1.000000</td>\n",
       "      <td>15 Jul 2024 Manuel Rojas Berríos Vladimir Cerr...</td>\n",
       "    </tr>\n",
       "    <tr>\n",
       "      <th>11</th>\n",
       "      <td>0</td>\n",
       "      <td>1.000000</td>\n",
       "      <td>Director Daniel Enz Agroecología cambio climát...</td>\n",
       "    </tr>\n",
       "    <tr>\n",
       "      <th>12</th>\n",
       "      <td>0</td>\n",
       "      <td>1.000000</td>\n",
       "      <td>15 Jul 2024 Newsroom Guayaquil Ecuador 15 jul ...</td>\n",
       "    </tr>\n",
       "    <tr>\n",
       "      <th>13</th>\n",
       "      <td>0</td>\n",
       "      <td>1.000000</td>\n",
       "      <td>gobierno provincial asegura disminución mayore...</td>\n",
       "    </tr>\n",
       "    <tr>\n",
       "      <th>14</th>\n",
       "      <td>0</td>\n",
       "      <td>1.000000</td>\n",
       "      <td>PERIODISMO INDEPENDIENTE madrugada rafaelinos ...</td>\n",
       "    </tr>\n",
       "    <tr>\n",
       "      <th>15</th>\n",
       "      <td>0</td>\n",
       "      <td>1.000000</td>\n",
       "      <td>LU5 clima Cipolletti lunes 15 julio 2024 Cipol...</td>\n",
       "    </tr>\n",
       "    <tr>\n",
       "      <th>16</th>\n",
       "      <td>0</td>\n",
       "      <td>1.000000</td>\n",
       "      <td>Gral Villegas Gral Pinto Distrito Interior · 1...</td>\n",
       "    </tr>\n",
       "    <tr>\n",
       "      <th>17</th>\n",
       "      <td>0</td>\n",
       "      <td>1.000000</td>\n",
       "      <td>emocionante victoria Argentina Colombia final ...</td>\n",
       "    </tr>\n",
       "    <tr>\n",
       "      <th>18</th>\n",
       "      <td>0</td>\n",
       "      <td>1.000000</td>\n",
       "      <td>Arístides Villanueva repleta botellas vasos pl...</td>\n",
       "    </tr>\n",
       "    <tr>\n",
       "      <th>19</th>\n",
       "      <td>0</td>\n",
       "      <td>1.000000</td>\n",
       "      <td>gobernador Gustavo Valdés tomará juramento Alf...</td>\n",
       "    </tr>\n",
       "  </tbody>\n",
       "</table>\n",
       "</div>"
      ],
      "text/plain": [
       "    topicos  probabilidad de pertenencia  \\\n",
       "0         0                     0.985309   \n",
       "1         0                     1.000000   \n",
       "2         0                     0.638761   \n",
       "3         0                     1.000000   \n",
       "4         0                     1.000000   \n",
       "5         0                     1.000000   \n",
       "6         0                     1.000000   \n",
       "7         0                     1.000000   \n",
       "8         0                     1.000000   \n",
       "9         0                     1.000000   \n",
       "10        0                     1.000000   \n",
       "11        0                     1.000000   \n",
       "12        0                     1.000000   \n",
       "13        0                     1.000000   \n",
       "14        0                     1.000000   \n",
       "15        0                     1.000000   \n",
       "16        0                     1.000000   \n",
       "17        0                     1.000000   \n",
       "18        0                     1.000000   \n",
       "19        0                     1.000000   \n",
       "\n",
       "                                                Texto  \n",
       "0   Pablo Ibánez Victoria Villarruel entra sale pl...  \n",
       "1   nena arrojó auto Ramallo asistida presentes em...  \n",
       "2   redefinición jazz revolucionario toque trompet...  \n",
       "3   Efectivos Prefectura Naval buscaban domingo tr...  \n",
       "4   Configurá notificaciones cuerdo tus temas inte...  \n",
       "5   Instituto Seguridad Social Seguros ISSyS anunc...  \n",
       "6   dólar MEP cae $1 335 contado liquidación $1 35...  \n",
       "7   Instituto Nacional Tecnología Agropecuaria INT...  \n",
       "8   Policía Federal Argentina PFA dependiente Mini...  \n",
       "9   Lunes 15 Julio 2024 Actualizada 13 54hs 15 07 ...  \n",
       "10  15 Jul 2024 Manuel Rojas Berríos Vladimir Cerr...  \n",
       "11  Director Daniel Enz Agroecología cambio climát...  \n",
       "12  15 Jul 2024 Newsroom Guayaquil Ecuador 15 jul ...  \n",
       "13  gobierno provincial asegura disminución mayore...  \n",
       "14  PERIODISMO INDEPENDIENTE madrugada rafaelinos ...  \n",
       "15  LU5 clima Cipolletti lunes 15 julio 2024 Cipol...  \n",
       "16  Gral Villegas Gral Pinto Distrito Interior · 1...  \n",
       "17  emocionante victoria Argentina Colombia final ...  \n",
       "18  Arístides Villanueva repleta botellas vasos pl...  \n",
       "19  gobernador Gustavo Valdés tomará juramento Alf...  "
      ]
     },
     "execution_count": 33,
     "metadata": {},
     "output_type": "execute_result"
    }
   ],
   "source": [
    "topics_1 = topic_model_1.topics_\n",
    "probs_1 =topic_model_1.probabilities_\n",
    "\n",
    "\n",
    "df_modelo_1 = pd.DataFrame((zip(topics_1,probs_1,proc_data_text_1)), columns = ['topicos','probabilidad de pertenencia',\"Texto\"])\n",
    "df_modelo_1.head(20)"
   ]
  },
  {
   "cell_type": "code",
   "execution_count": 34,
   "metadata": {},
   "outputs": [
    {
     "data": {
      "text/html": [
       "<div>\n",
       "<style scoped>\n",
       "    .dataframe tbody tr th:only-of-type {\n",
       "        vertical-align: middle;\n",
       "    }\n",
       "\n",
       "    .dataframe tbody tr th {\n",
       "        vertical-align: top;\n",
       "    }\n",
       "\n",
       "    .dataframe thead th {\n",
       "        text-align: right;\n",
       "    }\n",
       "</style>\n",
       "<table border=\"1\" class=\"dataframe\">\n",
       "  <thead>\n",
       "    <tr style=\"text-align: right;\">\n",
       "      <th></th>\n",
       "      <th>topicos</th>\n",
       "      <th>probabilidad de pertenencia</th>\n",
       "      <th>Texto</th>\n",
       "    </tr>\n",
       "  </thead>\n",
       "  <tbody>\n",
       "    <tr>\n",
       "      <th>0</th>\n",
       "      <td>-1</td>\n",
       "      <td>0.000000</td>\n",
       "      <td>Secciones Regiones Videos Podcast Fotogalerías...</td>\n",
       "    </tr>\n",
       "    <tr>\n",
       "      <th>1</th>\n",
       "      <td>0</td>\n",
       "      <td>1.000000</td>\n",
       "      <td>Campanense Diario Información real 24 hs Trico...</td>\n",
       "    </tr>\n",
       "    <tr>\n",
       "      <th>2</th>\n",
       "      <td>0</td>\n",
       "      <td>1.000000</td>\n",
       "      <td>Belgrano logró importante victoria imponerse 2...</td>\n",
       "    </tr>\n",
       "    <tr>\n",
       "      <th>3</th>\n",
       "      <td>2</td>\n",
       "      <td>1.000000</td>\n",
       "      <td>etapa política gobierno libertario deambuló me...</td>\n",
       "    </tr>\n",
       "    <tr>\n",
       "      <th>4</th>\n",
       "      <td>2</td>\n",
       "      <td>0.825641</td>\n",
       "      <td>Elon Musk publicó oferta laboral contratar tra...</td>\n",
       "    </tr>\n",
       "    <tr>\n",
       "      <th>5</th>\n",
       "      <td>0</td>\n",
       "      <td>0.848140</td>\n",
       "      <td>día Oriana Sabatini Paulo Dybala pareja casó 6...</td>\n",
       "    </tr>\n",
       "    <tr>\n",
       "      <th>6</th>\n",
       "      <td>3</td>\n",
       "      <td>0.845012</td>\n",
       "      <td>Mesa Argentina Carne Sustentable MACS publicó ...</td>\n",
       "    </tr>\n",
       "    <tr>\n",
       "      <th>7</th>\n",
       "      <td>0</td>\n",
       "      <td>1.000000</td>\n",
       "      <td>exjugador Selección Chile apuntó Ángel Di Marí...</td>\n",
       "    </tr>\n",
       "    <tr>\n",
       "      <th>8</th>\n",
       "      <td>0</td>\n",
       "      <td>1.000000</td>\n",
       "      <td>River día Demichelis juega arrancar semestre p...</td>\n",
       "    </tr>\n",
       "    <tr>\n",
       "      <th>9</th>\n",
       "      <td>0</td>\n",
       "      <td>1.000000</td>\n",
       "      <td>pesado chivilcoyano Braian García ganó anoche ...</td>\n",
       "    </tr>\n",
       "  </tbody>\n",
       "</table>\n",
       "</div>"
      ],
      "text/plain": [
       "   topicos  probabilidad de pertenencia  \\\n",
       "0       -1                     0.000000   \n",
       "1        0                     1.000000   \n",
       "2        0                     1.000000   \n",
       "3        2                     1.000000   \n",
       "4        2                     0.825641   \n",
       "5        0                     0.848140   \n",
       "6        3                     0.845012   \n",
       "7        0                     1.000000   \n",
       "8        0                     1.000000   \n",
       "9        0                     1.000000   \n",
       "\n",
       "                                               Texto  \n",
       "0  Secciones Regiones Videos Podcast Fotogalerías...  \n",
       "1  Campanense Diario Información real 24 hs Trico...  \n",
       "2  Belgrano logró importante victoria imponerse 2...  \n",
       "3  etapa política gobierno libertario deambuló me...  \n",
       "4  Elon Musk publicó oferta laboral contratar tra...  \n",
       "5  día Oriana Sabatini Paulo Dybala pareja casó 6...  \n",
       "6  Mesa Argentina Carne Sustentable MACS publicó ...  \n",
       "7  exjugador Selección Chile apuntó Ángel Di Marí...  \n",
       "8  River día Demichelis juega arrancar semestre p...  \n",
       "9  pesado chivilcoyano Braian García ganó anoche ...  "
      ]
     },
     "execution_count": 34,
     "metadata": {},
     "output_type": "execute_result"
    }
   ],
   "source": [
    "topics_2 = topic_model_2.topics_\n",
    "probs_2 =topic_model_2.probabilities_\n",
    "\n",
    "\n",
    "df_modelo_2 = pd.DataFrame((zip(topics_2,probs_2,proc_data_text_2)), columns = ['topicos','probabilidad de pertenencia',\"Texto\"])\n",
    "df_modelo_2.head(10)"
   ]
  },
  {
   "cell_type": "code",
   "execution_count": 35,
   "metadata": {},
   "outputs": [
    {
     "data": {
      "text/plain": [
       "['1 maxima temperaturas pronostico',\n",
       " '0 argentina america seleccion',\n",
       " '1 trump presidente atentado']"
      ]
     },
     "execution_count": 35,
     "metadata": {},
     "output_type": "execute_result"
    }
   ],
   "source": [
    "### Recuperar todos los topicos y sus etiquetas generadas por el modelo.\n",
    "topic_labels_1 = topic_model_1.generate_topic_labels()\n",
    "topic_labels_1_clean= clean_all(topic_labels_1, accents=True, lower=True)\n",
    "topic_labels_1_clean\n",
    "\n"
   ]
  },
  {
   "cell_type": "code",
   "execution_count": 36,
   "metadata": {},
   "outputs": [
    {
     "data": {
      "text/plain": [
       "['1 personas ataques gaza',\n",
       " '0 futbol partido vas',\n",
       " '1 soto catalina policia',\n",
       " '2 gobierno andis presidente',\n",
       " '3 azcuenaga alsina lagos',\n",
       " '4 brecha ccl mep',\n",
       " '5 mision nasa astronautas']"
      ]
     },
     "execution_count": 36,
     "metadata": {},
     "output_type": "execute_result"
    }
   ],
   "source": [
    "### Recuperar todos los topicos y sus etiquetas generadas por el modelo.\n",
    "topic_labels_2 = topic_model_2.generate_topic_labels()\n",
    "topic_labels_2_clean= clean_all(topic_labels_2, accents=True, lower=True)\n",
    "topic_labels_2_clean\n",
    "\n",
    "\n"
   ]
  },
  {
   "cell_type": "markdown",
   "metadata": {},
   "source": [
    "### Calculo los Threshols para cada topico creado."
   ]
  },
  {
   "cell_type": "code",
   "execution_count": 37,
   "metadata": {},
   "outputs": [
    {
     "data": {
      "text/plain": [
       "[0.9806600757225021, 0.8209697973234411]"
      ]
     },
     "execution_count": 37,
     "metadata": {},
     "output_type": "execute_result"
    }
   ],
   "source": [
    "threshold_function(df_modelo_1)"
   ]
  },
  {
   "cell_type": "markdown",
   "metadata": {},
   "source": [
    "### Embedding para el primer corpus de noticias y  matriz de similitud entre noticias y tópicos"
   ]
  },
  {
   "cell_type": "code",
   "execution_count": 38,
   "metadata": {},
   "outputs": [],
   "source": [
    "embeds_1 =  embedding_model.encode(proc_data_text_1)"
   ]
  },
  {
   "cell_type": "code",
   "execution_count": 39,
   "metadata": {},
   "outputs": [
    {
     "name": "stdout",
     "output_type": "stream",
     "text": [
      "(500, 384) (3, 384)\n"
     ]
    }
   ],
   "source": [
    "print(embeds_1.shape,\n",
    "topic_model_1.topic_embeddings_.shape)\n"
   ]
  },
  {
   "cell_type": "code",
   "execution_count": 40,
   "metadata": {},
   "outputs": [],
   "source": [
    "sim_matrix_1= cosine_similarity(\n",
    "    topic_model_1.topic_embeddings_,\n",
    "    embeds_1\n",
    ")"
   ]
  },
  {
   "cell_type": "code",
   "execution_count": 41,
   "metadata": {},
   "outputs": [],
   "source": [
    "def get_topic_name(keywords):\n",
    "    return ', '.join([k for k, s in keywords[:4]])"
   ]
  },
  {
   "cell_type": "code",
   "execution_count": 42,
   "metadata": {},
   "outputs": [
    {
     "data": {
      "text/plain": [
       "3"
      ]
     },
     "execution_count": 42,
     "metadata": {},
     "output_type": "execute_result"
    }
   ],
   "source": [
    "topic_model_1.get_topics().keys()\n",
    "len(topic_model_1.get_topics().keys())"
   ]
  },
  {
   "cell_type": "code",
   "execution_count": 43,
   "metadata": {},
   "outputs": [
    {
     "data": {
      "text/plain": [
       "[('trump', 0.15043047266901866),\n",
       " ('presidente', 0.08635686256129724),\n",
       " ('atentado', 0.07486157792127515),\n",
       " ('donald trump', 0.07139344383466059),\n",
       " ('donald', 0.07124927945087406),\n",
       " ('na', 0.05285923666219028),\n",
       " ('milei', 0.047945763432094175),\n",
       " ('secreto', 0.0455411813162823),\n",
       " ('com', 0.04463025335099611),\n",
       " ('candidato', 0.04165276317741472)]"
      ]
     },
     "execution_count": 43,
     "metadata": {},
     "output_type": "execute_result"
    }
   ],
   "source": [
    "topic_model_1.topic_representations_[1]"
   ]
  },
  {
   "cell_type": "markdown",
   "metadata": {},
   "source": [
    "### Guardo en la base lo generado."
   ]
  },
  {
   "cell_type": "code",
   "execution_count": 44,
   "metadata": {},
   "outputs": [
    {
     "name": "stdout",
     "output_type": "stream",
     "text": [
      "0\n"
     ]
    },
    {
     "name": "stderr",
     "output_type": "stream",
     "text": [
      "c:\\Users\\amunoz\\AppData\\Local\\anaconda3\\envs\\topics\\Lib\\site-packages\\urllib3\\connectionpool.py:1103: InsecureRequestWarning: Unverified HTTPS request is being made to host 'localhost'. Adding certificate verification is strongly advised. See: https://urllib3.readthedocs.io/en/latest/advanced-usage.html#tls-warnings\n",
      "  warnings.warn(\n"
     ]
    },
    {
     "name": "stdout",
     "output_type": "stream",
     "text": [
      "created\n",
      "1\n",
      "created\n"
     ]
    }
   ],
   "source": [
    "# Guardo los topicos en opensearch y los mejores documentos de cada cluster. \n",
    "\n",
    "\n",
    "for topic in topic_model_1.get_topics().keys():\n",
    "    if topic > -1:\n",
    "        print(topic)\n",
    "        keywords = topic_model_1.topic_representations_[topic]\n",
    "        topic_keywords = [TopicKeyword(name=k, score=s) for k, s in keywords]\n",
    "\n",
    "\n",
    "        best_doc_index = sim_matrix_1[topic].argmax()\n",
    "\n",
    "        best_doc = df_train_1.iloc[best_doc_index].text\n",
    "\n",
    "        topic_doc = Topic(\n",
    "            index = topic,\n",
    "            vector = list(topic_model_1.topic_embeddings_[topic]),\n",
    "            similarity_threshold = threshold_function(df_modelo_1)[topic],\n",
    "            created_at = datetime.now(),\n",
    "            to_date = parse('2024-07-15'),\n",
    "            from_date = parse('2024-07-16'),\n",
    "            \n",
    "            keywords = topic_keywords,\n",
    "            name = get_topic_name(keywords),\n",
    "            best_doc = best_doc\n",
    "        )\n",
    "\n",
    "        print(topic_doc.save())"
   ]
  },
  {
   "cell_type": "markdown",
   "metadata": {},
   "source": [
    "### Criterio de corte para quedarme con los documentos mas relevantes de cada topico."
   ]
  },
  {
   "cell_type": "code",
   "execution_count": 45,
   "metadata": {},
   "outputs": [
    {
     "data": {
      "image/png": "[encoded data removed]",
      "text/plain": [
       "<Figure size 640x480 with 1 Axes>"
      ]
     },
     "metadata": {},
     "output_type": "display_data"
    }
   ],
   "source": [
    "import matplotlib.pyplot as plt\n",
    "\n",
    "df_corte = pd.DataFrame((zip(topics_1,probs_1)), columns = ['topicos','probabilidades'])\n",
    "\n",
    "n_topic = 1\n",
    "df_corte = df_corte[df_corte[\"topicos\"] == n_topic]\n",
    "probs_1_0 = list(df_corte[\"probabilidades\"])\n",
    "\n",
    "\n",
    "plt.title(f\"Probabilidades del topico 0\")\n",
    "plt.hist(probs_1_0)\n",
    "plt.axvline(np.mean(probs_1_0), color = \"red\")\n",
    "filtro = np.mean(probs_1_0)\n",
    "\n"
   ]
  },
  {
   "cell_type": "markdown",
   "metadata": {},
   "source": [
    "### Muestro los cortes para cada Topico"
   ]
  },
  {
   "cell_type": "code",
   "execution_count": 46,
   "metadata": {},
   "outputs": [
    {
     "data": {
      "text/html": [
       "<div>\n",
       "<style scoped>\n",
       "    .dataframe tbody tr th:only-of-type {\n",
       "        vertical-align: middle;\n",
       "    }\n",
       "\n",
       "    .dataframe tbody tr th {\n",
       "        vertical-align: top;\n",
       "    }\n",
       "\n",
       "    .dataframe thead th {\n",
       "        text-align: right;\n",
       "    }\n",
       "</style>\n",
       "<table border=\"1\" class=\"dataframe\">\n",
       "  <thead>\n",
       "    <tr style=\"text-align: right;\">\n",
       "      <th></th>\n",
       "      <th>Topico</th>\n",
       "      <th>Corte</th>\n",
       "    </tr>\n",
       "  </thead>\n",
       "  <tbody>\n",
       "    <tr>\n",
       "      <th>0</th>\n",
       "      <td>0</td>\n",
       "      <td>[0.981]</td>\n",
       "    </tr>\n",
       "    <tr>\n",
       "      <th>1</th>\n",
       "      <td>1</td>\n",
       "      <td>[0.821]</td>\n",
       "    </tr>\n",
       "  </tbody>\n",
       "</table>\n",
       "</div>"
      ],
      "text/plain": [
       "   Topico    Corte\n",
       "0       0  [0.981]\n",
       "1       1  [0.821]"
      ]
     },
     "execution_count": 46,
     "metadata": {},
     "output_type": "execute_result"
    }
   ],
   "source": [
    "df_corte_p = pd.DataFrame((zip(topics_1,probs_1)), columns = ['topicos','probabilidades'])\n",
    "n_topic = len(topic_model_1.get_topics().keys())-1\n",
    "cortes = []\n",
    "\n",
    "\n",
    "for topic  in range(0, n_topic):\n",
    "      probs = list(df_corte_p[df_corte_p[\"topicos\"] == topic][\"probabilidades\"])\n",
    "      prom = [np.mean(probs).round(3)]\n",
    "      cortes.append(prom)\n",
    "\n",
    "topicos_num =list(range(0,n_topic))\n",
    "df_cortes = pd.DataFrame((zip(topicos_num,cortes)), columns = ['Topico','Corte'])\n",
    "df_cortes"
   ]
  },
  {
   "cell_type": "markdown",
   "metadata": {},
   "source": [
    "### De cada topico traigo los documentos cuya probabilidad de pertenecer al topico sea mayor al threshold"
   ]
  },
  {
   "cell_type": "code",
   "execution_count": 47,
   "metadata": {},
   "outputs": [],
   "source": [
    "df_modelo_1= pd.DataFrame((zip(topics_1,probs_1,proc_data_text_1)), columns = ['topicos','probabilidades',\"Texto\"])"
   ]
  },
  {
   "cell_type": "code",
   "execution_count": 48,
   "metadata": {},
   "outputs": [
    {
     "name": "stdout",
     "output_type": "stream",
     "text": [
      "Los documentos del topico 1 con probabilidad mayor al corte 0.821  son:\n"
     ]
    },
    {
     "data": {
      "text/html": [
       "<div>\n",
       "<style scoped>\n",
       "    .dataframe tbody tr th:only-of-type {\n",
       "        vertical-align: middle;\n",
       "    }\n",
       "\n",
       "    .dataframe tbody tr th {\n",
       "        vertical-align: top;\n",
       "    }\n",
       "\n",
       "    .dataframe thead th {\n",
       "        text-align: right;\n",
       "    }\n",
       "</style>\n",
       "<table border=\"1\" class=\"dataframe\">\n",
       "  <thead>\n",
       "    <tr style=\"text-align: right;\">\n",
       "      <th></th>\n",
       "      <th>topicos</th>\n",
       "      <th>probabilidades</th>\n",
       "      <th>Texto</th>\n",
       "    </tr>\n",
       "  </thead>\n",
       "  <tbody>\n",
       "    <tr>\n",
       "      <th>22</th>\n",
       "      <td>1</td>\n",
       "      <td>1.0</td>\n",
       "      <td>RN senador Ohio pasó acérrimo crítico expresid...</td>\n",
       "    </tr>\n",
       "    <tr>\n",
       "      <th>122</th>\n",
       "      <td>1</td>\n",
       "      <td>1.0</td>\n",
       "      <td>intención generar polémica ocurrido semana Est...</td>\n",
       "    </tr>\n",
       "    <tr>\n",
       "      <th>189</th>\n",
       "      <td>1</td>\n",
       "      <td>1.0</td>\n",
       "      <td>videos Atentado Trump muestra gente alertó ser...</td>\n",
       "    </tr>\n",
       "    <tr>\n",
       "      <th>229</th>\n",
       "      <td>1</td>\n",
       "      <td>1.0</td>\n",
       "      <td>FBI Estados Unidos identificó Thomas Matthew C...</td>\n",
       "    </tr>\n",
       "    <tr>\n",
       "      <th>325</th>\n",
       "      <td>1</td>\n",
       "      <td>1.0</td>\n",
       "      <td>secuencia muestra enorme dimensión disparo ido...</td>\n",
       "    </tr>\n",
       "  </tbody>\n",
       "</table>\n",
       "</div>"
      ],
      "text/plain": [
       "     topicos  probabilidades  \\\n",
       "22         1             1.0   \n",
       "122        1             1.0   \n",
       "189        1             1.0   \n",
       "229        1             1.0   \n",
       "325        1             1.0   \n",
       "\n",
       "                                                 Texto  \n",
       "22   RN senador Ohio pasó acérrimo crítico expresid...  \n",
       "122  intención generar polémica ocurrido semana Est...  \n",
       "189  videos Atentado Trump muestra gente alertó ser...  \n",
       "229  FBI Estados Unidos identificó Thomas Matthew C...  \n",
       "325  secuencia muestra enorme dimensión disparo ido...  "
      ]
     },
     "execution_count": 48,
     "metadata": {},
     "output_type": "execute_result"
    }
   ],
   "source": [
    "#Ingrese numero de topico\n",
    "topico= 1\n",
    "\n",
    "\n",
    "corte = df_cortes[df_cortes[\"Topico\"] == topico] \n",
    "corte = list(corte[\"Corte\"])\n",
    "corte= corte[0][0]\n",
    "corte\n",
    "\n",
    "df_modelo_1_filtrado = df_modelo_1[(df_modelo_1[\"probabilidades\"]> corte)  &  (df_modelo_1[\"topicos\"] == topico) ]\n",
    "\n",
    "print(f\"Los documentos del topico {topico} con probabilidad mayor al corte {corte}  son:\")\n",
    "df_modelo_1_filtrado.sort_values(\"probabilidades\", ascending=False).head(5) \n",
    "\n"
   ]
  },
  {
   "cell_type": "markdown",
   "metadata": {},
   "source": [
    "### Traigo los  mejores documentos para cada topico."
   ]
  },
  {
   "cell_type": "code",
   "execution_count": 49,
   "metadata": {},
   "outputs": [
    {
     "name": "stdout",
     "output_type": "stream",
     "text": [
      "['Diego Canepa cobertura especial red InfoNegocios Agentina consagró campeón CONMEBOL Copa América™ vencer Colombia partido emocionante durísimo literalmente película culminó gol Lautaro Martínez extra asegurando victoria 1 0 revalidando título obtenido 2021 Argentina gana decimasexta torneo viejo importante continente proyecta dueño título selección títulos internacionales mundo Diego Canepa cobertura especial red InfoNegocios Agentina consagró campeón CONMEBOL Copa América™ vencer Colombia partido emocionante durísimo literalmente película culminó gol Lautaro Martínez extra asegurando victoria 1 0 revalidando título obtenido 2021 Argentina gana decimasexta torneo viejo importante continente proyecta dueño título selección títulos internacionales mundo encuentro disputado 15 julio 2024 Miami medio ciudad organización superada pasión desorden locura fútbol escenario consagración Argentina máximo ganador Copa América 16 títulos historial dirección Lionel Scaloni equipo argentino logró cuarta victoria torneo destacado desempeño Miami explota Argentinidad palo argentinos selección Messi retirado lesión demostró equipo lleno talento personalidad individualidades experiencial estrategia héroes partido Ángel Di María Argentina campeonato mereció 4 final 4 título Argentina impresionante Argentina literalmente Rey América título potenciando rankeando potencia futbolística número FIFA partidazo Argentina Colombia protagonizaron disputado lograron diferencia equipo dirigido Néstor Lorenzo comenzó importante posesión pelota primeras situaciones claras final 48° edición CONMEBOL Copa América™ 6 remate Jhon Córdoba palo 12 córner ejecutado James Rodríguez máximo asistidor torneo terminó doble cabezazo área Cuesta Dibu Martínez logró controlar Argentina históricos 19 Di María escapó izquierda pase atrás terminó disparo Messi desvío problemas Vargas Argentina logró equilibrar posesión Colombia claras afuera área 33 disparo Lerma terminó Dibu sacándola punta dedos 40 remate lejano seco Richard Ríos asegurado abajo arquero Aston Villa momentos destacados partido encontró despedida Ángel Di María selección argentina jugó partido albiceleste Lionel Messi jugador partidos historia torneo reemplazado Lautaro Martínez consagró goleador torneo marcar único gol final cierre mitad Nicolás Tagliafico cabeceó centro llegado falta arco Vargas complemento comenzó intenso lados 47 Arias clara disparo cruzado desviado minutos tarde combinación colectiva terminó Mac Allister asistiendo Di María disparo argentino superar Vargas achicó arco 57 Argentina asoció pases movió pelota derecha izquierda Di María metió remate potente cruzado Vargas desviar tiro esquina partido CONMEBOL Copa América™ Lionel Messi jugador partidos historia torneo reemplazado visiblemente dolorido 65 Nicolás González Diez minutos tarde Nico González recibió pase atrás Tagliafico zurdazo adentro arco revisión VAR probó lateral offside partido seguía 0 0 cierre regular mostró Argentina dominador oportunidades ingresado Nico González cabezazo palo remate área travesaño 0 0 llevó partido Extra extensión regular Argentina empezó dominando Nico González desborde Rodrigo Paul pateó derecha posición penal Vargas logró contenerla rebote Colombia frenó impulso argentino empezaron repartirse posesión situaciones logró quebrar cero extra partido marcado intensidad paridad Argentina Colombia tiempos oportunidades claras equipos extra Lautaro Martínez aprovechó asistencia Celso marcar gol victoria Argentina enorme quite Paredes mitad cancha veloz asistencia Celso terminó Lautaro Martínez mano mano Vargas Toro erró disparo adentro significó quinto gol CONMEBOL Copa América™ Bota Oro torneo falta minutos Di María elegido jugador partido reemplazado Otamendi recibió ovación partido camiseta selección Argentina 1 0 final Argentina 16° estrella torneo Argentina máximo ganador torneo triunfo Argentina demostró calidad dominio fútbol sudamericano consolidándose equipos exitosos región celebración Hard Rock Stadium Miami Gardens Florida broche oro torneo inolvidable aficionados argentinos equipo dirigido Lionel Scaloni alineó Emiliano Martínez Gonzalo Montiel Cristian Romero Lisandro Martínez Nicolás Tagliafico Rodrigo Paul Alexis Mac Allister Enzo Fernández Ángel Di María Lionel Messi Julián Álvarez partido Lionel Messi reemplazado Nicolás González minuto 65 Ángel Di María sustituido Otamendi minutos recibiendo emotiva ovación partido selección argentina gol Lautaro Martínez convirtió máximo goleador torneo excelente asistencia Celso extra Argentina logró equilibrar posesión partido oportunidades claras gol destacadas actuaciones jugadores Di María Messi Martínez Colombia dirigida Néstor Lorenzo presentó alineación Camilo Vargas Santiago Arias Carlos Cuesta Davinson Sánchez Johan Mojica Jefferson Lerma Richard Rios Jhon Arias James Rodríguez Luis Díaz Jhon Córdoba desempeño sólido equipo colombiano logró romper defensa argentina vio superado gol Martínez extra Diego Cánepa diecanepaok Maqueda Maurizio Miami ciudad sol brilla calor aroma especial playas arena blanca descanso vista conocida escena artística diversidad cultural asombrosa gastronomía supuesto paraíso amantes helado búsqueda sabores imaginativos experiencias deliciosas aventuramos calles vibrante ciudad descubrir heladerías destacadas convierten referente industria heladera sabores filipinos únicos rollos helado hechos mano Miami especial amantes helado Otero Maurizio competitivo mundo marketing experiencias cerveza Michelob Ultra demostrado enfoque innovador diverso estrategia patrocinio CONMEBOL Copa América 2024 asociarse CONMEBOL Patrocinador Oficial Global Cerveza Copa América 2024™ Michelob Ultra elevado presencia compromiso aficionados fútbol mundo especialmente mercado importante Estados Unidos Gina Emerson verano 2024 traído resurgencia tendencia atrevida sensual underboob estilo implica mostrar sutilmente inferior pecho revelar demasiado conquistado nuevamente mundo moda destacándose especialmente eventos alta categoría Verano Miami 2006 nació tímidamente vuelta 2016 tendencia signo Clase sensualidad europa seguramente mega tendencia costas Brasil Argentina Uruguay primavera 2024 verano 2025 claro… quizás potencie Juan Maqueda Felix Maqueda vibrante corazón Brickell Miami yace tesoro gastronómico cautivado paladares exigentes años Sexy Fish restaurante bar inspiración asiática ofrece experiencia culinaria única combina frescura sushi sashimi japonés exquisitez mariscos pescados carnes recomendación seguridad te presentamos Sexy Fish Molina Taylor vibrante rally Doral Florida presidente Donald Trump mantuvo vilo multitud menc', 'VIVO 3 Argentina Noche Día Susana Buontempo 3 Rosario Noche Día Susana Buontempo Heat Música Popu Musical Popu Cosquín Rock Cosquín Rock pronto Copa América 2024 Copa América 2024 Central Deportiva Deportes Copa América 2024 Deportes Copa América 2024 Rony Vivo Rony Vivo Santa Misa Rony Vivo Rony Vivo grande grande previa Copa América 2024 Copa América 2024 Copa América 2024 previa previa mañana mañana Mañana Rosario Mañana Rosario mañana mañana mañana mañana mañana mañana mañana mañana Copa América 2024 mañana mañana Turno Noche Cuadrado Turno Noche Cuadrado regreso Rosario regreso Rosario regreso regreso Copa América 2024 Abrapalabra Política esquina Economía Adrián Simioni país país Juntos Rosario Juntos país país Copa América 2024 Juntos 3x1 4 Sergio Suppo Mesa Café Radioinforme 3 Juntos Radioinforme 3 Radioinforme 3 Rosario quinta pata gato Adrián Simioni Juntos Rosario Juntos Juntos dato confiable Federico Albarenque Juntos Rosario Mesa Café mirada Fernando Genesir Radioinforme 3 Rosario Radioinforme 3 Radioinforme 3 Radioinforme 3 Radioinforme 3 Radioinforme 3 Rosario Radioinforme 3 Copa América 2024 Radioinforme 3 Radioinforme 3 Radioinforme 3 Radioinforme 3 Radioinforme 3 Radioinforme 3 Radioinforme 3 Radioinforme 3 Radioinforme 3 Rosario Turno Noche Turno Noche Cuadrado Rosario Deportes Rosario regreso Rosario Rosario regreso Emisoras vivo Elegí tu emisora Podés cambiar tu emisora desees Copa América 14 07 2024 23 05 Redacción 3 Messi lesionado piso Messi dolorido piso X Lionel Messi sufrió lesión promediando final Copa América 2024 Colombia completar partido corriendo acción defensiva cayó piso Inmediátamente pidió cambio ingresó Nicolás González atendían médicos piso tomó cara muslo derecho gesto típico desgarro Inicio lesión Lionel Messi CopaAmérica pic twitter com RrVAHaaSQF— Mati matiasm 02 July 15 2024 golpe tiempoSobre cierre mitad quiso tirar centro pierna zurda dobló tobillo derecho apoyo defensor cafetero Santiago Arias tiró piso cruzarlo tocarlo jugada capitán argentino mostró gestos dolor atendido médicos Minutos tarde volvió campo juego pisar comodidad entretiempo cuerpo médico trabajó zona retornar jufar seguna mitad Inicio jugada Messi Arias dolorido 10 pic twitter com rDvSUuDkFN— TyC Sports TyCSports July 15 2024 Inicio exacto dobló tobillo derecho Messi pic twitter com Co7ymCEoZv— TyC Sports TyCSports July 15 2024 Lionel Messi sufrió lesión promediando final Copa América 2024 Colombia completar partido corriendo acción defensiva cayó piso Inmediátamente pidió cambio ingresó Nicolás González atendían médicos piso tomó cara muslo derecho gesto típico desgarro Inicio lesión Lionel Messi CopaAmérica pic twitter com RrVAHaaSQF cierre mitad quiso tirar centro pierna zurda dobló tobillo derecho apoyo defensor cafetero Santiago Arias tiró piso cruzarlo tocarlo jugada capitán argentino mostró gestos dolor atendido médicos Minutos tarde volvió campo juego pisar comodidad entretiempo cuerpo médico trabajó zona retornar jufar seguna mitad Inicio jugada Messi Arias dolorido 10 pic twitter com rDvSUuDkFN Inicio exacto dobló tobillo derecho Messi pic twitter com Co7ymCEoZv Messi lesión tobillo Copa América final Te interesar Copa América 2024 incidentes inicio partido comenzó 22 15 pautado 21 disturbios incidentes afueras Hard Rock Stadium Transmite 3 plataformas ENVIADO ESPECIAL entrenador argentino decidió once titular jugó semifinales Canadá enfrentar domingo Colombia Anticipo 3 Tenis rival ganador partido Taylor Fritz Lorenzo Musetti Copa América 2024 Selección práctica previa cuartos final astro rosarino entrenando normalidad par compañeros Deportes Copa América 2024 selección argentina impuso 1 0 alargue golazo Lautaro Martínez Transmite 3 plataformas Copa América 2024 Hielo tobillo lágrimas ojos tristeza Messi traspasó país Copa América capitán argentino completar partido Copa América medio distintos incidentes afueras Hard Rock Stadium fanáticos cafeteros idearon curiosa ilegalmente estadio Copa América madre Mac Allister contó hijo intervenir pudieran pasar Parientes futbolistas tuvieron problemas María Rosa Beltramo Maravillas siglo Guillermo López Rumbo económico Julio Perotti Abrapalabra Adrián Simioni Política esquina Economía Sergio Suppo 3x1 4 Adrián Simioni quinta pata gato Sergio Berensztein Editorial Te interesar Teatro 20 años abordamos temáticas divierten invitan reflexionar infancias adultos 3 Gabriel Coba integrante Grupo Mutttis Teatro Polémica Asociación Internacional Radiodifusión emitió comunicado resaltó cierre arbitrario acto integra constantes violaciones Libertad Expresión Federal oyentes sintonizar FM 92 9 escuchar contenidos tipo entretenerse informarse federal datos corresponden Informe Digitales Instituto universidad único medio nacional sede interior innovación te acompaña lugares te pierdas especial Copa América 2024 selección argentina impuso 1 0 alargue golazo Lautaro Martínez Transmite 3 plataformas Copa América 2024 selección argentina impuso 1 0 alargue golazo Lautaro Martínez Transmite 3 plataformas Copa América 2024 Hielo tobillo lágrimas ojos tristeza Messi traspasó país Copa América capitán argentino completar partido Aires joven 29 años subido presuntamente prepararse eventual festejo marco final Copa América Argentina Colombia Copa América madre Mac Allister contó hijo intervenir pudieran pasar Parientes futbolistas tuvieron problemas Copa América medio distintos incidentes afueras Hard Rock Stadium fanáticos cafeteros idearon curiosa ilegalmente estadio Economía anticipó posteo X secretario Finanzas Caputo Pablo Quirno evitar anuncios sábado depriman valores títulos 2 3 Festivales Nocheros actuaron velada festival solidario organizado Chaqueño Palavecino 20 años domingo presentan Voces Orán Lázaro Caballero 3 2 Copa América 2024 Hinchas colombianos intentaron entrar fuerza Policía debió ordenar ingresos Hard Rock Stadium Fanáticos argentinos colombianos contaron 3 maltratados autoridades Copa América medio distintos incidentes afueras Hard Rock Stadium fanáticos cafeteros idearon curiosa ilegalmente estadio Copa América madre Mac Allister contó hijo intervenir pudieran pasar Parientes futbolistas tuvieron problemas Economía anticipó posteo X secretario Finanzas Caputo Pablo Quirno evitar anuncios sábado depriman valores títulos Mario Nuest', 'medios mundo reflejaron triunfo marcó despedida Ángel Di María selección 16 años « Gracias muchachos » título diarios mundo reflejaron victoria Selección Argentina bicampeona América consecutiva título corresponde edición lunes medio colombiano reconoció desempeño cafeteros final ganó Argentina mundo destacó serie espectacular seleccionado albiceleste logró consecutiva 4 campeonatos disputó Copa América 2021 «Finalissima» Italia Mundial Qatar 2022 edición Copa América 2024 medios internacionales consagración encadenada Scaloneta amplia cobertura lesión Messi retiro Di María selección continuidad 16 años duros momentos consagración absoluta «Gracias muchachos» diario Colombia usó frase – popular argentina Scaloneta – saludar desempeño cafeteros copa América «Colombia queda Copa América 2024 Argentina campeón» medio eligió reseñar sucedido final colombiano torneo llegaron invicto 25 partidos logró mantenerlo 90 minutos reglamentarios perdió 1 0 gol Lautaro Martínez alargue elementos final escándalo previo entradas control premiación Scaloneta medio reflejó «Fue larga noche emociones domingo volvió lunes puso prueba corazón equipos hinchadas llenaron Hard Rock Stadium Miami final Argentina convirtió ganador Copa América derrotar 1 0 Colombia partido extra» País Argentina campeona diario español compartió sección deportiva doble festejo copas continentales España ganador eurocopa Scaloneta bicampeona América «Los dirigidos Lionel Scaloni vencen 1 0 Colombia gol Lautaro Martínez repiten título obtuvieron Brasil 2021» título específico victoria argentina destacó simbiosis produjo equipo capitán Messi jugador historia «Lionel Messi Argentina Argentina Lionel Messi alegrías 10 Albiceleste tuvieron devolución equipo espíritu mosquetero título 10 capitán lesionado lágrimas banco suplentes 25 minutos suplementario selección campeona mundo ganó 1 0 Colombia final dramática Miami consagró bicampeona Copa América Argentina máxima ganadora continental 16 estrellas Uruguay» inicia nota central País victoria selección RT Argentina bate récords medio rusia puso especial énfasis serie victorias logro histórico selección sudamericana logra ganar consecutiva copa América copa mundial nuevamente copa Conmebol Brasil Pelé lograrlo «Argentina conquista Copa América bate récord trofeos» publica RT mañana lunes aparte jugador historia «Lionel Messi disputó finales 2007 2015 2016 2021 jugador historia torneo participar finales» AFP triple corona Scaloneta agencia francesa llevó triunfo selección mundo anticipo «La campeona mundial Argentina proclamó bicampeona Copa América ganar 1 0 Colombia extra empatar goles 90 minutos final EEUU 2024 Miami cuarto título años permite acreditarse simbólica Triple Corona» fotografías aparece plantel pila humana celebrando final partido Mercurio triunfo único serie principales medios Chile dedicó serie notas reflejar victoria argentina «La ‘Albiceleste impuso final Colombia Miami» títulos Mercurio refleja festejos Messi Scaloni celebración particular «Dibu» Martínez nota especial dedicada gol Lautaro Martínez Copa selección consagró goleador competencia 5 tantos destacaque bicampeonato Argentina 16 títulos continentales Uruguay ganador Conmebol Uruguay Argentina Campeón América País Urugay tituló » Argentina campeón Copa América 2024 gol Lautaro Martínez venció Colombia 1 0 Miami» reseñó triunfo serie Scaloneta supera copa Uruguay sudamérica dedicó nota especial Lautaro Martínez goleador torneo sacó espina goles perdidos mundial Qatar «Era indicado Lautaro Martínez criptonita Colombia resiliencia sacar campeón Argentina» País Montevideo New York Times Messi torneo Argentina diario norteamericano destacó triunfo Colombia Leo siga acrecentando leyenda mundial pensando sucederá años EE UU anfitriones mundial puso especial interés desastroza organización copa «Una final empañada caos lugar» tituló Times reflejó victoria Argentina Copa América «día tumultuoso Messi lesionó final retrasó repetidamente« Times diario repara detalle clave cuerpo técnico cambios juntos equipo argentino ingreso Paredes Celso Lautaro Martínez determinantes «Esas sustituciones Lionel Scaloni prórroga pasarán historia Argentina jugaron papel clave gol» apunta acertadamente NYT «Paredes recuperó balón Celso pase perfectamente sincronizado Lautaro resto « cronista norteamericano gol Lautaro Martínez Endefinitiva excelente resumen jugada conjunto dió Scaloneta cuarto título certámenes consecutivos FUENTE A24']\n",
      "['15 julio 2024 Mundo presidente estadounidense habló sufrido asesinato Pensilvania Atentado Donald Trump X expresidente Estados Unidos Donald Trump siente afortunado debería muerto asesinato sufrió sábado mitin Pensilvania supone debería supone debería muerto Trump hablar atentado entrevista concedida The New York Post horas convención Partido Republicana iba celebrar Milwaukee increíble giré cabeza giré exacto cantidad justa bala rozó oreja haberlo matado fácilmente Luciendo vendaje blanco oreja derecha Trump describió giraba ligeramente cabeza leer gráfico inmigrantes indocumentados bala pretendía acabar vida erró blanco Trump refirió experiencia surrealista terminó vida entrevista bordo avión privado ruta Milwaukee líder republicano cambió enfoque futuros discursos virarán virulencia rival presidente Joe Biden llamado unidad Quiero unir país transmitió Trump The Post reconoció divisiones profundamente arraigadas nación reflexionar angustiosa experiencia fundamental acción Servicio Secreto neutralizar tirador asesor principal campaña Trump Jason Miller enorme gratitud expresidente siente afortunado Miller Today NBC gracia Dios milagroso presidente Trump girado cabeza poquito justo evitar bala … mensaje presidente Trump transmitiendo simple unir Estados Unidos unir país declaró Miller NA presidente estadounidense habló sufrido asesinato Pensilvania Atentado Donald Trump X expresidente Estados Unidos Donald Trump siente afortunado debería muerto asesinato sufrió sábado mitin Pensilvania supone debería supone debería muerto Trump hablar atentado entrevista concedida The New York Post horas convención Partido Republicana iba celebrar Milwaukee increíble giré cabeza giré exacto cantidad justa bala rozó oreja haberlo matado fácilmente Luciendo vendaje blanco oreja derecha Trump describió giraba ligeramente cabeza leer gráfico inmigrantes indocumentados bala pretendía acabar vida erró blanco Trump refirió experiencia surrealista terminó vida entrevista bordo avión privado ruta Milwaukee líder republicano cambió enfoque futuros discursos virarán virulencia rival presidente Joe Biden llamado unidad Quiero unir país transmitió Trump The Post reconoció divisiones profundamente arraigadas nación reflexionar angustiosa experiencia fundamental acción Servicio Secreto neutralizar tirador asesor principal campaña Trump Jason Miller enorme gratitud expresidente siente afortunado Miller Today NBC gracia Dios milagroso presidente Trump girado cabeza poquito justo evitar bala … mensaje presidente Trump transmitiendo simple unir Estados Unidos unir país declaró Miller NA Jul 13 2024 0 Jul 12 2024 0 Jul 02 2024 0 Jul 15 2024 0 Jul 11 2024 0 Jul 11 2024 0 Jul 15 2024 0 Jul 14 2024 0 Jul 12 2024 0 Jul 12 2024 0 Jul 12 2024 0', 'presidente Estados Unidos Donald Trump disse não deveria ao comentar atentado sofreu sábado 13 um comício na Pensilvânia Em entrevista ao New York Post republicano definiu ocorrido muito surreal falou até em milagre Trump teve ferimentos na orelha duas pessoas morreram — elas atirador Trump disse estaria morto não tivesse virado cabeça Naquele republicano tentava ler um gráfico com informações imigrantes ilegais quando foi atingido New York Post Trump usava um curativo grande na orelha entrevista sua equipe não permitiu reportagem tirasse fotos Mesmo ferido presidente queria continuar seu discurso Ele foi impedido agentes do Serviço Secreto disseram não seguro Os oficiais também queriam levá ao hospital Eu só queria continuar falando tinha acabado baleado lembrou Julio Gomes EUA deram show horror na Copa América Jamil Chade Democracia americana um centímetro do abismo José Paulo Kupfer Populismo desfigura caráter redistributivo reforma Fernanda Magnotta Trump perguntas mapear futuro incerto Ele elogiou Serviço Secreto abater rapidamente atirador autor disparos posteriormente identificado Thomas Matthew Crooks 20 anos foi morto com um tiro bem meio testa acordo com Trump Eles agentes fizeram um trabalho fantástico É muito surreal nós Trump ainda comentou em quis pegar os sapatos Um vídeo transmissão do comício flagrou em presidente já ferido pediu aos agentes seguravam deixassem pegar seus sapatos Os seguranças acertaram tão forte meus sapatos caíram meus sapatos são apertados brincou hospital médico disse viu assim Ele chamou milagre Eu não deveria Eu deveria morto Donald Trump em entrevista ao New York Post Trump discursava apoiadores quando foi alvo disparos vídeos registraram é possível ouvir os tiros logo depois Trump leva mão à orelha abaixa Em seguida agentes do Serviço Secreto correm protegê palanque comício em Butler Pensilvânia Imagens mostram orelha Trump sangrou Quando foi retirado do local seguranças republicano ergueu punho em direção à multidão Senti bala rasgando pele escreveu Trump em uma rede social Duas pessoas morreram sendo uma delas atirador atentado sendo investigado possível ato terrorismo doméstico acordo com Anthony Guglielmi chefe comunicação do Serviço Secreto os disparos foram feitos uma posição elevada fora do comício atirador foi neutralizado agentes Outras duas pessoas ficaram gravemente feridas Presidente Lula PT classificou episódio inaceitável atentado presidente Donald Trump deve repudiado veementemente os defensores democracia do diálogo na política vimos hoje é inaceitável publicou Lula X Twitter Saiba qual foi cachê Shakira show na final Copa América 2024 Julianne Cerasoli Ralf Schumacher declara um homem mostra F1 ainda engatinha Tornozelo inchado Messi impressiona na final na Copa América veja Serviço Secreto não fez varredura prédio onde atirador Trump estava Atentado Trump 2024 um remake 1968 Serviço Secreto diz confiar em esquema segurança convenção republicana Trump fala em milagre após ataque em comício Eu deveria morto Rei Charles III escreveu Donald Trump após tentativa assassinato Site Trump apresenta imagem seu rosto ensanguentado arrecadar fundos Trump promete discurso unir país após tentativa assassinato Bombeiro 50 anos é identificado 2ª vítima atentado Trump Atirador Trump foi visto pela polícia do fora do comício Serviço Secreto nega ter recusado segurança adicional Trump em comício Bolsonaro JFK veja candidatos presidentes alvos ataques Trump Registrado republicano 20 anos quem autor tiro Trump Assine UOL Telefone 4003 6118 Capitais 0800 703 300 Demais localidades Baixe nossos apps 1996 2024 UOL melhor conteúdo os direitos reservados Segurança privacidade', 'candidato republicano contestó superior oreja derecha impactada tiroteo asesores indicaron ánimo Informador Thomas Matthew Crooks 20 años vivía hora atentado compañeros mala puntería fracasó equipo tiro rifle preparatoria Bethel Park AP FBI identificó Thomas Matthew Crooks 20 años residente Bethel Park Pensilvania responsable asesinato Donald Trump abatido tiros Servicio Secreto segundos disparara escenario presidente hablando mitin Butler Crooks vivía hora distancia tiroteo graduó 2022 preparatoria Bethel Park experto ciencias exactas recibió premio estrella 500 dólares Iniciativa Nacional Matemáticas Ciencias compañeros Crooks intentó entrar equipo tiro rifle preparatoria fracasó Jameson Murphy alumno contó ocasión prueba Crooks disparó séptimo carril cercano pared derecha acertó pared izquierda fallando completo dianas pared trasera Falló blanco distancia metros prueba puntería cómicamente mala entrar equipo marchó día día atentado Trump llamado unidad resiliencia candidato republicano contestó superior oreja derecha impactada tiroteo asesores indicaron ánimo Supe inmediatamente andaba mal escuché zumbido disparos inmediatamente sentí bala atravesando piel aseveró publicación red social Truth Social sangrado Servicio Secreto Estados Unidos investiga hombre armado fusil tipo AR acercarse suficiente disparar herir Trump mitin Pensilvania presidente Joe Biden ordenó investigación independiente pidió Servicio Secreto revise medidas seguridad planeadas Convención Nacional Republicana empieza Milwaukee Unidad nacional pide Donald Trump tiroteo día caótico previo semana promete intensa Donald Trump pasó domingo reposo club golf Bedminister Jersey propiedad accesos club golf paraje boscoso Jersey permanecieron cerrados Norte Sur caminos conducen instalaciones permanecieron resguardados servicios seguridad acceso vehículos autorizados intensa revisión altos seguridad implicó medios comunicación tuvieran alejarse 5 kilómetros propiedad esperanza captar declaración candidato distancia aturdimiento jornada sabatina implicaron Trump permaneciera silencioso suele acostumbrar utilizó redes sociales expresar sentir horas atentado sufrió Pensilvania previo viaje Milwaukee semana investido candidato presidencia Partido Republicano red Truth Social presidente llamado unidad resiliencia mundo político estremecía herido murieron tirador asistentes Trump superior oreja derecha impactada tiroteo asesores indicaron presidente ánimo físicamente mitin sábado narró supe inmediatamente andaba mal escuché zumbido disparos inmediatamente sentí bala atravesando piel sangrado referencia creencias político aseveró red Dios evitó ocurriera impensable momentos importante sigamos unidos mostremos carácter estadounidenses siguiendo fuertes determinados dejemos gane maldad anotó republicano domingo atípico lejos multitudes ajetreo implicado campaña miras presidencia información Seguidores colgaron pancartas Centro Mailwaukee expresando deseos recuperación Donald Trump Fallece bombero retirado persona murió ataque presidente Donald Trump identificado Corey Comperatore bombero padre familia gobernador Pensilvania Josh Shapiro confirmó identidad víctima recibir autorización esposa Comperatore ávido partidario mandatario republicano murió héroe gobernador demócrata esposa Corey Comperatore falleció lanzarse proteger familia disparos ataque Corey ávido partidario presidente emocionado anoche comunidad gobernador Voz experto Francisco Santana internacionalista candidato empoderado atentado sufrió Donald Trump mitin Pensilvania Francisco Santana Villegas internacionalista rescató presidente salir personaje político fuerte electorado achacaron temas legales tratando limitar continuidad campaña salido victorioso cabe palabra ‘invencible sentir simpatizantes notar reforzar candidato empoderado académico experto cauteloso análisis ataque Trump información preliminar circuló horas evento Santana Villegas virtual candidato republicano saldrá fortalecido frente Biden disminuido beneficiar campaña conociendo personaje tomar favor cuál curso toma tema violencia justificar sentenció jornada plegarias mensajes apoyo Seguidores presidente Estados Unidos Donald Trump organizaron exterior Convención Nacional Republicana Milwaukee velada rezar desear pronta recuperación magnate asesinato sufrió sábado concentración céntrico parque ciudad grande Wisconsin asistentes dotaron evento colorido curiosas estampas devoción brindó Alexandra Schwatge desplegó cartel gigante rostro republicano colocó cuadro mural simpatizantes escribían mensajes deseos Trump héroe Recupérate pronto lucha lucha lucha frases podían leerse presidente necesita aman apoyamos rendiremos Vale pena luchar libertad Estados Unidos anotó Alexandra acto organizado asociación extrema derecha Turning Point Action participantes concentración John Puchner cantante profesor músico iglesia anoche compuso canción sentirse desolado sucedido vi sucedió sentí mundo lleno maldad debemos orar republicanos demócratas rezar presidente Biden Donald Trump tengamos violencia zanjó CT Registrarse implica aceptar Términos Condiciones']\n"
     ]
    }
   ],
   "source": [
    "## Aca no se como consultar al elastic. Creo que  haria falta\n",
    "n_topic = len(topic_model_1.get_topics().keys())-1\n",
    "\n",
    "\n",
    "for topico in range(0, n_topic):\n",
    "    doc_representativos= topic_model_1.get_representative_docs(topico)\n",
    "    print(doc_representativos)"
   ]
  },
  {
   "cell_type": "markdown",
   "metadata": {},
   "source": [
    "### Traigo para un documento cualquiera el texto más cercano."
   ]
  },
  {
   "cell_type": "code",
   "execution_count": 50,
   "metadata": {},
   "outputs": [
    {
     "name": "stderr",
     "output_type": "stream",
     "text": [
      "c:\\Users\\amunoz\\AppData\\Local\\anaconda3\\envs\\topics\\Lib\\site-packages\\urllib3\\connectionpool.py:1103: InsecureRequestWarning: Unverified HTTPS request is being made to host 'localhost'. Adding certificate verification is strongly advised. See: https://urllib3.readthedocs.io/en/latest/advanced-usage.html#tls-warnings\n",
      "  warnings.warn(\n"
     ]
    },
    {
     "name": "stdout",
     "output_type": "stream",
     "text": [
      "Menú No te pierdas las últimas noticias Seguinos en las redes sociales Por La Opinión Austral Your browser doesn’t support HTML5 audio La Selección Argentina dirigida por Lionel Scaloni marcó otro hito es la historia, es que los ahora bicampeones de América se consagraron como la selección más ganadora del continente. Pese a lo entrada la noche -ya que el partido comenzó una hora tarde y se extendió hasta por dos tiempos complementarios- los vecinos de Río Gallegos no quisieron privarse del festejo y un copioso grupo se concentró en la emblemática esquina de las Av. Néstor Kirchner y San Martín.     Leé más notas de La Opinión Austral Noticias relacionadas Compartir esta noticia LO MÁS LEÍDO Seguínos en redes ¡No te pierdas las noticias destacadas de La Opinión Austral! Recibí las historias más importantes del día Al suscribirse al newsletter acepta nuestros términos y condiciones y política de privacidad.   Dejanos tu comentario Más noticias  Cerrar © Copyright  La Opinión Austral ® Todos los derechos reservados Edición Nº  -  © Copyright  La Opinión Austral. ® Todos los derechos reservados.  Edición Nº  - \n"
     ]
    }
   ],
   "source": [
    "# Escriba el nuevo documento\n",
    "new_doc = \"Donals Trump, presidente de EEUU, sufrio un atentado como muestra la foto\"\n",
    "#new_doc = \"Argentina copa America seleccion\"\n",
    "\n",
    "new_doc_embed = topic_model_1.embedding_model.embed(new_doc)\n",
    "\n",
    "#new_doc_embed\n",
    "\n",
    "query = {\n",
    "        \"size\": 10,\n",
    "        \"query\": {\n",
    "            \"knn\": {\n",
    "            \"vector\": {\n",
    "                    \"vector\": list(new_doc_embed),\n",
    "                    \"k\": 2\n",
    "                }\n",
    "            }\n",
    "        }\n",
    "    }\n",
    "\n",
    "response = os_client.search(index=\"topic\", body=query)  \n",
    "documents = response['hits']['hits']\n",
    "type(documents)\n",
    "len(documents)\n",
    "print(documents[0].get(\"_source\").get(\"best_doc\"))\n"
   ]
  },
  {
   "cell_type": "markdown",
   "metadata": {},
   "source": [
    "### Inicializa el modelo para el corpus 2 y lo entreno para dicho dataset."
   ]
  },
  {
   "cell_type": "code",
   "execution_count": 51,
   "metadata": {},
   "outputs": [],
   "source": [
    "\n",
    "vectorizer_model_2= tfidf_vectorizer_2\n",
    "\n",
    "topic_model_2 = BERTopic(\n",
    "  embedding_model=embedding_model,              \n",
    "  umap_model=umap_model,                        \n",
    "  hdbscan_model=hdbscan_model,                  \n",
    "  vectorizer_model=vectorizer_model_2,          \n",
    "  ctfidf_model=ctfidf_model,                    \n",
    "  # language='multilingual',                    \n",
    "  verbose=True,\n",
    "  # calculate_probabilities=True\n",
    ")\n",
    "\n",
    "\n",
    "\n",
    "\n",
    "\n",
    "\n",
    "\n",
    "\n"
   ]
  },
  {
   "cell_type": "code",
   "execution_count": 52,
   "metadata": {},
   "outputs": [
    {
     "name": "stderr",
     "output_type": "stream",
     "text": [
      "2024-09-30 11:28:24,404 - BERTopic - Embedding - Transforming documents to embeddings.\n"
     ]
    },
    {
     "data": {
      "application/vnd.jupyter.widget-view+json": {
       "model_id": "2bb7cfc7a79247e7bfe9e88113d90d8e",
       "version_major": 2,
       "version_minor": 0
      },
      "text/plain": [
       "Batches:   0%|          | 0/16 [00:00<?, ?it/s]"
      ]
     },
     "metadata": {},
     "output_type": "display_data"
    },
    {
     "name": "stderr",
     "output_type": "stream",
     "text": [
      "2024-09-30 11:29:14,001 - BERTopic - Embedding - Completed ✓\n",
      "2024-09-30 11:29:14,001 - BERTopic - Dimensionality - Fitting the dimensionality reduction algorithm\n",
      "2024-09-30 11:29:18,801 - BERTopic - Dimensionality - Completed ✓\n",
      "2024-09-30 11:29:18,807 - BERTopic - Cluster - Start clustering the reduced embeddings\n",
      "2024-09-30 11:29:18,907 - BERTopic - Cluster - Completed ✓\n",
      "2024-09-30 11:29:18,947 - BERTopic - Representation - Extracting topics from clusters using representation models.\n",
      "c:\\Users\\amunoz\\AppData\\Local\\anaconda3\\envs\\topics\\Lib\\site-packages\\bertopic\\vectorizers\\_ctfidf.py:82: RuntimeWarning: divide by zero encountered in divide\n",
      "  idf = np.log((avg_nr_samples / df)+1)\n",
      "2024-09-30 11:29:19,461 - BERTopic - Representation - Completed ✓\n"
     ]
    }
   ],
   "source": [
    "topics_2, probs_2 = topic_model_2.fit_transform( proc_data_text_2)"
   ]
  },
  {
   "cell_type": "code",
   "execution_count": 53,
   "metadata": {},
   "outputs": [
    {
     "name": "stdout",
     "output_type": "stream",
     "text": [
      "500 500\n",
      "Número de tópicos encontrados: 7 (incluye el topico -1)\n"
     ]
    }
   ],
   "source": [
    "print(len(topics_2),len(probs_2))\n",
    "\n",
    "# Obtener documentos de cada tópico\n",
    "topic_freq_2 = topic_model_2.get_topic_freq()\n",
    "\n",
    "\n",
    "\n",
    "\n",
    "#Imprimir el número de tópicos encontrados (incluyendo el tópico -1)\n",
    "num_topics_2 = len(topic_freq_2)\n",
    "print(f\"Número de tópicos encontrados: {num_topics_2} (incluye el topico -1)\")\n",
    "#print(topic_freq_2)\n",
    "#print(len(topic_freq_2))\n",
    "\n",
    "\n",
    "### Recuperar todos los topicos y sus etiquetas generadas por el modelo\n",
    "# topic_labels_1 = topic_model_1.generate_topic_labels()\n",
    "# topic_labels_1"
   ]
  },
  {
   "cell_type": "markdown",
   "metadata": {},
   "source": [
    "### Embedding para el segundo corpus de noticias"
   ]
  },
  {
   "cell_type": "code",
   "execution_count": 54,
   "metadata": {},
   "outputs": [],
   "source": [
    "embeds_2 = embedding_model.encode(proc_data_text_2)"
   ]
  },
  {
   "cell_type": "markdown",
   "metadata": {},
   "source": [
    "### Información sobre el segundo modelo"
   ]
  },
  {
   "cell_type": "code",
   "execution_count": 55,
   "metadata": {},
   "outputs": [
    {
     "data": {
      "text/html": [
       "<div>\n",
       "<style scoped>\n",
       "    .dataframe tbody tr th:only-of-type {\n",
       "        vertical-align: middle;\n",
       "    }\n",
       "\n",
       "    .dataframe tbody tr th {\n",
       "        vertical-align: top;\n",
       "    }\n",
       "\n",
       "    .dataframe thead th {\n",
       "        text-align: right;\n",
       "    }\n",
       "</style>\n",
       "<table border=\"1\" class=\"dataframe\">\n",
       "  <thead>\n",
       "    <tr style=\"text-align: right;\">\n",
       "      <th></th>\n",
       "      <th>Topic</th>\n",
       "      <th>Count</th>\n",
       "      <th>Name</th>\n",
       "      <th>Representation</th>\n",
       "      <th>Representative_Docs</th>\n",
       "    </tr>\n",
       "  </thead>\n",
       "  <tbody>\n",
       "    <tr>\n",
       "      <th>0</th>\n",
       "      <td>-1</td>\n",
       "      <td>117</td>\n",
       "      <td>-1_personas_ataques_gaza_ciudad</td>\n",
       "      <td>[personas, ataques, gaza, ciudad, hotel, salud...</td>\n",
       "      <td>[12 personas murieron 31 permanecían desaparec...</td>\n",
       "    </tr>\n",
       "    <tr>\n",
       "      <th>1</th>\n",
       "      <td>0</td>\n",
       "      <td>211</td>\n",
       "      <td>0_fútbol_partido_vas_brown</td>\n",
       "      <td>[fútbol, partido, vas, brown, estadio, liga, a...</td>\n",
       "      <td>[disfrutar contenidos necesario actives JavaSc...</td>\n",
       "    </tr>\n",
       "    <tr>\n",
       "      <th>2</th>\n",
       "      <td>1</td>\n",
       "      <td>77</td>\n",
       "      <td>1_soto_catalina_policía_na</td>\n",
       "      <td>[soto, catalina, policía, na, acidente, nara, ...</td>\n",
       "      <td>[RN situación barilochense Néstor Soto único d...</td>\n",
       "    </tr>\n",
       "    <tr>\n",
       "      <th>3</th>\n",
       "      <td>2</td>\n",
       "      <td>47</td>\n",
       "      <td>2_gobierno_andis_presidente_milei</td>\n",
       "      <td>[gobierno, andis, presidente, milei, fmi, vald...</td>\n",
       "      <td>[gobierno denunció viernes esquema corrupción ...</td>\n",
       "    </tr>\n",
       "    <tr>\n",
       "      <th>4</th>\n",
       "      <td>3</td>\n",
       "      <td>23</td>\n",
       "      <td>3_azcuénaga_alsina_lagos_rocha</td>\n",
       "      <td>[azcuénaga, alsina, lagos, rocha, licencias, c...</td>\n",
       "      <td>[20 julio 2024 Sociedad Dirección Gral Descent...</td>\n",
       "    </tr>\n",
       "    <tr>\n",
       "      <th>5</th>\n",
       "      <td>4</td>\n",
       "      <td>14</td>\n",
       "      <td>4_brecha_ccl_mep_suba</td>\n",
       "      <td>[brecha, ccl, mep, suba, cierre, tasa, precio,...</td>\n",
       "      <td>[año ajo etapa crecimiento vegetativo salir in...</td>\n",
       "    </tr>\n",
       "    <tr>\n",
       "      <th>6</th>\n",
       "      <td>5</td>\n",
       "      <td>11</td>\n",
       "      <td>5_misión_nasa_astronautas_armstrong</td>\n",
       "      <td>[misión, nasa, astronautas, armstrong, marte, ...</td>\n",
       "      <td>[rover Curiosity explorador robótico principal...</td>\n",
       "    </tr>\n",
       "  </tbody>\n",
       "</table>\n",
       "</div>"
      ],
      "text/plain": [
       "   Topic  Count                                 Name  \\\n",
       "0     -1    117      -1_personas_ataques_gaza_ciudad   \n",
       "1      0    211           0_fútbol_partido_vas_brown   \n",
       "2      1     77           1_soto_catalina_policía_na   \n",
       "3      2     47    2_gobierno_andis_presidente_milei   \n",
       "4      3     23       3_azcuénaga_alsina_lagos_rocha   \n",
       "5      4     14                4_brecha_ccl_mep_suba   \n",
       "6      5     11  5_misión_nasa_astronautas_armstrong   \n",
       "\n",
       "                                      Representation  \\\n",
       "0  [personas, ataques, gaza, ciudad, hotel, salud...   \n",
       "1  [fútbol, partido, vas, brown, estadio, liga, a...   \n",
       "2  [soto, catalina, policía, na, acidente, nara, ...   \n",
       "3  [gobierno, andis, presidente, milei, fmi, vald...   \n",
       "4  [azcuénaga, alsina, lagos, rocha, licencias, c...   \n",
       "5  [brecha, ccl, mep, suba, cierre, tasa, precio,...   \n",
       "6  [misión, nasa, astronautas, armstrong, marte, ...   \n",
       "\n",
       "                                 Representative_Docs  \n",
       "0  [12 personas murieron 31 permanecían desaparec...  \n",
       "1  [disfrutar contenidos necesario actives JavaSc...  \n",
       "2  [RN situación barilochense Néstor Soto único d...  \n",
       "3  [gobierno denunció viernes esquema corrupción ...  \n",
       "4  [20 julio 2024 Sociedad Dirección Gral Descent...  \n",
       "5  [año ajo etapa crecimiento vegetativo salir in...  \n",
       "6  [rover Curiosity explorador robótico principal...  "
      ]
     },
     "execution_count": 55,
     "metadata": {},
     "output_type": "execute_result"
    }
   ],
   "source": [
    "topic_model_2.get_topic_info()"
   ]
  },
  {
   "cell_type": "markdown",
   "metadata": {},
   "source": [
    "### Mergeo ambos modelos"
   ]
  },
  {
   "cell_type": "code",
   "execution_count": 56,
   "metadata": {},
   "outputs": [],
   "source": [
    "merged_model_1y2 = BERTopic.merge_models([topic_model_1, topic_model_2])"
   ]
  },
  {
   "cell_type": "code",
   "execution_count": 57,
   "metadata": {},
   "outputs": [
    {
     "name": "stdout",
     "output_type": "stream",
     "text": [
      "Número de tópicos del modelo 1:  3 (incluye el topico -1)\n",
      "Número de tópicos del modelo 2:  7 (incluye el topico -1)\n",
      "Número de tópicos del modelo mergeado:  5 (incluye el topico -1)\n"
     ]
    }
   ],
   "source": [
    "print(f\"Número de tópicos del modelo 1:  {len(topic_model_1.get_topic_info()) } (incluye el topico -1)\")\n",
    "print(f\"Número de tópicos del modelo 2:  {len(topic_model_2.get_topic_info())} (incluye el topico -1)\")\n",
    "print(f\"Número de tópicos del modelo mergeado:  {len(merged_model_1y2.get_topic_info())} (incluye el topico -1)\")\n",
    "\n",
    "\n"
   ]
  },
  {
   "cell_type": "markdown",
   "metadata": {},
   "source": [
    "### Guardo el modelo mergeado"
   ]
  },
  {
   "cell_type": "code",
   "execution_count": 58,
   "metadata": {},
   "outputs": [
    {
     "name": "stderr",
     "output_type": "stream",
     "text": [
      "2024-09-30 11:30:57,789 - BERTopic - WARNING: When you use `pickle` to save/load a BERTopic model,please make sure that the environments in which you saveand load the model are **exactly** the same. The version of BERTopic,its dependencies, and python need to remain the same.\n"
     ]
    }
   ],
   "source": [
    "merged_model_1y2.save(r\"C:\\Users\\amunoz\\Desktop\\NLP_2024\\TP\"+ \"\\merge_modelo_1y2\")"
   ]
  },
  {
   "cell_type": "markdown",
   "metadata": {},
   "source": [
    "### Junto los embeddings y los documentos"
   ]
  },
  {
   "cell_type": "code",
   "execution_count": 59,
   "metadata": {},
   "outputs": [
    {
     "name": "stdout",
     "output_type": "stream",
     "text": [
      "En el modelo mergeado hay un total de 1000 documentos. Es la union de los documentos de los dias anteriores.\n"
     ]
    },
    {
     "data": {
      "application/vnd.jupyter.widget-view+json": {
       "model_id": "25c254259af04ce2aa30fad24fc6744f",
       "version_major": 2,
       "version_minor": 0
      },
      "text/plain": [
       "Batches:   0%|          | 0/32 [00:00<?, ?it/s]"
      ]
     },
     "metadata": {},
     "output_type": "display_data"
    },
    {
     "name": "stderr",
     "output_type": "stream",
     "text": [
      "2024-09-30 11:33:07,487 - BERTopic - Predicting topic assignments through cosine similarity of topic and document embeddings.\n"
     ]
    }
   ],
   "source": [
    "# Junto los embeddings\n",
    "embeds_1y2 = embeds_1 + embeds_2\n",
    "\n",
    "# Junto los documentos.\n",
    "df_train_m =pd.concat([df_train_1, df_train_2])\n",
    "\n",
    "\n",
    "data_train_1y2= list(df_train_m['text'])\n",
    "\n",
    "print(f\"En el modelo mergeado hay un total de {len(data_train_1y2)} documentos. Es la union de los documentos de los dias anteriores.\")\n",
    "\n",
    "topics_m, probs_m = merged_model_1y2.transform(data_train_1y2)"
   ]
  },
  {
   "cell_type": "code",
   "execution_count": 72,
   "metadata": {},
   "outputs": [],
   "source": [
    "np.save(\"embedding1y2\", embeds_1y2)\n",
    "np.save(\"data_train_1y2\", data_train_1y2)\n"
   ]
  },
  {
   "cell_type": "markdown",
   "metadata": {},
   "source": [
    "### Calculo los Threshold para cada topico creado en el merge."
   ]
  },
  {
   "cell_type": "code",
   "execution_count": 60,
   "metadata": {},
   "outputs": [
    {
     "name": "stderr",
     "output_type": "stream",
     "text": [
      "c:\\Users\\amunoz\\AppData\\Local\\anaconda3\\envs\\topics\\Lib\\site-packages\\numpy\\core\\fromnumeric.py:3504: RuntimeWarning: Mean of empty slice.\n",
      "  return _methods._mean(a, axis=axis, dtype=dtype,\n",
      "c:\\Users\\amunoz\\AppData\\Local\\anaconda3\\envs\\topics\\Lib\\site-packages\\numpy\\core\\_methods.py:129: RuntimeWarning: invalid value encountered in scalar divide\n",
      "  ret = ret.dtype.type(ret / rcount)\n"
     ]
    },
    {
     "data": {
      "text/html": [
       "<div>\n",
       "<style scoped>\n",
       "    .dataframe tbody tr th:only-of-type {\n",
       "        vertical-align: middle;\n",
       "    }\n",
       "\n",
       "    .dataframe tbody tr th {\n",
       "        vertical-align: top;\n",
       "    }\n",
       "\n",
       "    .dataframe thead th {\n",
       "        text-align: right;\n",
       "    }\n",
       "</style>\n",
       "<table border=\"1\" class=\"dataframe\">\n",
       "  <thead>\n",
       "    <tr style=\"text-align: right;\">\n",
       "      <th></th>\n",
       "      <th>Topico Merge</th>\n",
       "      <th>Corte Merge</th>\n",
       "    </tr>\n",
       "  </thead>\n",
       "  <tbody>\n",
       "    <tr>\n",
       "      <th>0</th>\n",
       "      <td>0</td>\n",
       "      <td>[0.448]</td>\n",
       "    </tr>\n",
       "    <tr>\n",
       "      <th>1</th>\n",
       "      <td>1</td>\n",
       "      <td>[0.395]</td>\n",
       "    </tr>\n",
       "  </tbody>\n",
       "</table>\n",
       "</div>"
      ],
      "text/plain": [
       "   Topico Merge Corte Merge\n",
       "0             0     [0.448]\n",
       "1             1     [0.395]"
      ]
     },
     "execution_count": 60,
     "metadata": {},
     "output_type": "execute_result"
    }
   ],
   "source": [
    "df_corte_m = pd.DataFrame((zip(topics_m,probs_m)), columns = ['topicos Merge','probabilidades Merge'])\n",
    "n_topic_m = len(merged_model_1y2.get_topics().keys())\n",
    "cortes_m = []\n",
    "\n",
    "\n",
    "for topic  in range(0, n_topic_m):\n",
    "      probs = list(df_corte_m[df_corte_m[\"topicos Merge\"] == topic][\"probabilidades Merge\"])\n",
    "      prom = [np.mean(probs).round(3)]\n",
    "      cortes_m.append(prom)\n",
    "\n",
    "topicos_num =list(range(0,n_topic))\n",
    "df_cortes_m = pd.DataFrame((zip(topicos_num,cortes_m)), columns = ['Topico Merge','Corte Merge'])\n",
    "df_cortes_m\n",
    "\n",
    "\n"
   ]
  },
  {
   "cell_type": "code",
   "execution_count": 61,
   "metadata": {},
   "outputs": [
    {
     "name": "stdout",
     "output_type": "stream",
     "text": [
      "5\n",
      "[0.4476808, 0.39517373, 0.48290926, 0.35664645, nan]\n"
     ]
    }
   ],
   "source": [
    "df_m = pd.DataFrame((zip(topics_m,probs_m)), columns = ['topicos mergeados','probabilidades mergeadas'])\n",
    "num_topics_m = len(merged_model_1y2.get_topics().keys())\n",
    "threshold_m = []\n",
    "\n",
    "for topico in range(0,num_topics_m):\n",
    "    if topico >-1:\n",
    "        threshold_m.append(np.mean(df_m[df_m[\"topicos mergeados\"] == topico][\"probabilidades mergeadas\"]))\n",
    "\n",
    "    \n",
    "\n",
    "\n",
    "print(len(threshold_m))  \n",
    "print(threshold_m)\n",
    " "
   ]
  },
  {
   "cell_type": "markdown",
   "metadata": {},
   "source": [
    "### Matriz de similitud entre noticias y tópicos del merge"
   ]
  },
  {
   "cell_type": "code",
   "execution_count": 62,
   "metadata": {},
   "outputs": [],
   "source": [
    "sim_matrix_1y2= cosine_similarity(\n",
    "    merged_model_1y2.topic_embeddings_,\n",
    "    embeds_1y2\n",
    ")"
   ]
  },
  {
   "cell_type": "markdown",
   "metadata": {},
   "source": [
    "### Borro lo guardado para el modelo 1. "
   ]
  },
  {
   "cell_type": "code",
   "execution_count": 63,
   "metadata": {},
   "outputs": [
    {
     "name": "stderr",
     "output_type": "stream",
     "text": [
      "c:\\Users\\amunoz\\AppData\\Local\\anaconda3\\envs\\topics\\Lib\\site-packages\\urllib3\\connectionpool.py:1103: InsecureRequestWarning: Unverified HTTPS request is being made to host 'localhost'. Adding certificate verification is strongly advised. See: https://urllib3.readthedocs.io/en/latest/advanced-usage.html#tls-warnings\n",
      "  warnings.warn(\n"
     ]
    },
    {
     "data": {
      "text/plain": [
       "True"
      ]
     },
     "execution_count": 63,
     "metadata": {},
     "output_type": "execute_result"
    }
   ],
   "source": [
    "def delete_index_opensearch(index_name: str) -> bool:\n",
    "    try:\n",
    "        delete_query = {\n",
    "                         \"query\": {\"match_all\" : {}}\n",
    "\n",
    "        }\n",
    "        response = os_client.delete_by_query(index = index_name , body=delete_query)\n",
    "        return True\n",
    "\n",
    "    except Exception as e:\n",
    "        print(f\"Ha ocurrido un error: {e}\")\n",
    "        return False\n",
    " \n",
    "\n",
    "delete_index_opensearch(\"topic\")"
   ]
  },
  {
   "cell_type": "code",
   "execution_count": 45,
   "metadata": {},
   "outputs": [
    {
     "data": {
      "application/vnd.jupyter.widget-view+json": {
       "model_id": "4d8c0457d76b4a258f4cc55ca98323eb",
       "version_major": 2,
       "version_minor": 0
      },
      "text/plain": [
       "Batches:   0%|          | 0/32 [00:00<?, ?it/s]"
      ]
     },
     "metadata": {},
     "output_type": "display_data"
    },
    {
     "name": "stderr",
     "output_type": "stream",
     "text": [
      "2024-08-27 17:34:35,557 - BERTopic - Predicting topic assignments through cosine similarity of topic and document embeddings.\n"
     ]
    }
   ],
   "source": [
    "#topics_m, probs_m = merged_model_1y2.transform(data_train_1y2)"
   ]
  },
  {
   "cell_type": "code",
   "execution_count": 64,
   "metadata": {},
   "outputs": [
    {
     "data": {
      "text/plain": [
       "1000"
      ]
     },
     "execution_count": 64,
     "metadata": {},
     "output_type": "execute_result"
    }
   ],
   "source": [
    "len(topics_m)"
   ]
  },
  {
   "cell_type": "markdown",
   "metadata": {},
   "source": [
    "### Guardo en opensearch el modelo merge"
   ]
  },
  {
   "cell_type": "code",
   "execution_count": 65,
   "metadata": {},
   "outputs": [
    {
     "name": "stdout",
     "output_type": "stream",
     "text": [
      "0\n",
      "created\n",
      "1\n",
      "created\n",
      "2\n",
      "created\n",
      "3\n",
      "created\n"
     ]
    }
   ],
   "source": [
    "for topic in merged_model_1y2.get_topics().keys():\n",
    "    if topic > -1:\n",
    "        print(topic)\n",
    "        keywords = merged_model_1y2.topic_representations_[topic]\n",
    "        topic_keywords = [TopicKeyword(name=k, score=s) for k, s in keywords]\n",
    "\n",
    "\n",
    "        best_doc_index = sim_matrix_1y2[topic].argmax()\n",
    "\n",
    "        best_doc = df_train_m.iloc[best_doc_index].text\n",
    "\n",
    "        topic_doc = Topic(\n",
    "            vector = list(merged_model_1y2.topic_embeddings_[topic]),\n",
    "            similarity_threshold = threshold_m[topic],       \n",
    "            created_at = datetime.now(),\n",
    "            to_date = parse('2024-07-15'),    # Fechas? \n",
    "            from_date = parse('2024-07-16'),\n",
    "            index = topic,\n",
    "            keywords = topic_keywords,\n",
    "            name = get_topic_name(keywords),\n",
    "            best_doc = best_doc\n",
    "        )\n",
    "\n",
    "        print(topic_doc.save())"
   ]
  },
  {
   "cell_type": "code",
   "execution_count": 66,
   "metadata": {},
   "outputs": [
    {
     "name": "stdout",
     "output_type": "stream",
     "text": [
      "Ejemplo para tópico:1 |   1_trump_presidente_atentado\n",
      "17 docs encontrados\n"
     ]
    },
    {
     "data": {
      "text/html": [
       "<div>\n",
       "<style scoped>\n",
       "    .dataframe tbody tr th:only-of-type {\n",
       "        vertical-align: middle;\n",
       "    }\n",
       "\n",
       "    .dataframe tbody tr th {\n",
       "        vertical-align: top;\n",
       "    }\n",
       "\n",
       "    .dataframe thead th {\n",
       "        text-align: right;\n",
       "    }\n",
       "</style>\n",
       "<table border=\"1\" class=\"dataframe\">\n",
       "  <thead>\n",
       "    <tr style=\"text-align: right;\">\n",
       "      <th></th>\n",
       "      <th>ID</th>\n",
       "      <th>pos_rel</th>\n",
       "      <th>titulo</th>\n",
       "      <th>score</th>\n",
       "    </tr>\n",
       "  </thead>\n",
       "  <tbody>\n",
       "    <tr>\n",
       "      <th>0</th>\n",
       "      <td>12176</td>\n",
       "      <td>22</td>\n",
       "      <td>La atajada de Emiliano Martínez que evitó el p...</td>\n",
       "      <td>1.0000</td>\n",
       "    </tr>\n",
       "    <tr>\n",
       "      <th>1</th>\n",
       "      <td>1397</td>\n",
       "      <td>325</td>\n",
       "      <td>Un adolescente y un menor protagonizaron una c...</td>\n",
       "      <td>1.0000</td>\n",
       "    </tr>\n",
       "    <tr>\n",
       "      <th>2</th>\n",
       "      <td>4967</td>\n",
       "      <td>479</td>\n",
       "      <td>Fue a hacer la previa de la final al Obelisco ...</td>\n",
       "      <td>1.0000</td>\n",
       "    </tr>\n",
       "    <tr>\n",
       "      <th>3</th>\n",
       "      <td>6396</td>\n",
       "      <td>422</td>\n",
       "      <td>Información rifa de las parroquias de San José...</td>\n",
       "      <td>1.0000</td>\n",
       "    </tr>\n",
       "    <tr>\n",
       "      <th>4</th>\n",
       "      <td>12173</td>\n",
       "      <td>385</td>\n",
       "      <td>Repudios al ataque contra Trump</td>\n",
       "      <td>1.0000</td>\n",
       "    </tr>\n",
       "    <tr>\n",
       "      <th>5</th>\n",
       "      <td>12601</td>\n",
       "      <td>122</td>\n",
       "      <td>La selección argentina bicampeona de América</td>\n",
       "      <td>1.0000</td>\n",
       "    </tr>\n",
       "    <tr>\n",
       "      <th>6</th>\n",
       "      <td>8584</td>\n",
       "      <td>326</td>\n",
       "      <td>Gesto de dolor y lágrimas: Lionel Messi no pud...</td>\n",
       "      <td>1.0000</td>\n",
       "    </tr>\n",
       "    <tr>\n",
       "      <th>7</th>\n",
       "      <td>96</td>\n",
       "      <td>229</td>\n",
       "      <td>Messi se lesiona en un esprint y abandona la f...</td>\n",
       "      <td>1.0000</td>\n",
       "    </tr>\n",
       "    <tr>\n",
       "      <th>8</th>\n",
       "      <td>1244</td>\n",
       "      <td>189</td>\n",
       "      <td>Murió un hincha tras caer de una escultura en ...</td>\n",
       "      <td>1.0000</td>\n",
       "    </tr>\n",
       "    <tr>\n",
       "      <th>9</th>\n",
       "      <td>2972</td>\n",
       "      <td>491</td>\n",
       "      <td>Tragedia en el Obelisco: murió un hincha de la...</td>\n",
       "      <td>1.0000</td>\n",
       "    </tr>\n",
       "    <tr>\n",
       "      <th>10</th>\n",
       "      <td>708</td>\n",
       "      <td>140</td>\n",
       "      <td>¿Lionel Messi puede volver a entrar a jugar la...</td>\n",
       "      <td>0.7355</td>\n",
       "    </tr>\n",
       "    <tr>\n",
       "      <th>11</th>\n",
       "      <td>11851</td>\n",
       "      <td>486</td>\n",
       "      <td>Murió un hincha de la Selección al caer de un ...</td>\n",
       "      <td>0.7044</td>\n",
       "    </tr>\n",
       "    <tr>\n",
       "      <th>12</th>\n",
       "      <td>1589</td>\n",
       "      <td>488</td>\n",
       "      <td>El llanto desconsolado de Messi tras salir por...</td>\n",
       "      <td>0.6618</td>\n",
       "    </tr>\n",
       "    <tr>\n",
       "      <th>13</th>\n",
       "      <td>9545</td>\n",
       "      <td>411</td>\n",
       "      <td>Murió un hincha en el Obelisco antes de la fin...</td>\n",
       "      <td>0.6575</td>\n",
       "    </tr>\n",
       "    <tr>\n",
       "      <th>14</th>\n",
       "      <td>4666</td>\n",
       "      <td>474</td>\n",
       "      <td>Cuál es tu animal espiritual según los signos ...</td>\n",
       "      <td>0.4314</td>\n",
       "    </tr>\n",
       "    <tr>\n",
       "      <th>15</th>\n",
       "      <td>589</td>\n",
       "      <td>188</td>\n",
       "      <td>Un hombre de 90 años celebró su amor por su di...</td>\n",
       "      <td>0.4159</td>\n",
       "    </tr>\n",
       "    <tr>\n",
       "      <th>16</th>\n",
       "      <td>7202</td>\n",
       "      <td>255</td>\n",
       "      <td>El delasotismo envió una señal a Hacemos Unido...</td>\n",
       "      <td>0.3500</td>\n",
       "    </tr>\n",
       "  </tbody>\n",
       "</table>\n",
       "</div>"
      ],
      "text/plain": [
       "       ID  pos_rel                                             titulo   score\n",
       "0   12176       22  La atajada de Emiliano Martínez que evitó el p...  1.0000\n",
       "1    1397      325  Un adolescente y un menor protagonizaron una c...  1.0000\n",
       "2    4967      479  Fue a hacer la previa de la final al Obelisco ...  1.0000\n",
       "3    6396      422  Información rifa de las parroquias de San José...  1.0000\n",
       "4   12173      385                    Repudios al ataque contra Trump  1.0000\n",
       "5   12601      122       La selección argentina bicampeona de América  1.0000\n",
       "6    8584      326  Gesto de dolor y lágrimas: Lionel Messi no pud...  1.0000\n",
       "7      96      229  Messi se lesiona en un esprint y abandona la f...  1.0000\n",
       "8    1244      189  Murió un hincha tras caer de una escultura en ...  1.0000\n",
       "9    2972      491  Tragedia en el Obelisco: murió un hincha de la...  1.0000\n",
       "10    708      140  ¿Lionel Messi puede volver a entrar a jugar la...  0.7355\n",
       "11  11851      486  Murió un hincha de la Selección al caer de un ...  0.7044\n",
       "12   1589      488  El llanto desconsolado de Messi tras salir por...  0.6618\n",
       "13   9545      411  Murió un hincha en el Obelisco antes de la fin...  0.6575\n",
       "14   4666      474  Cuál es tu animal espiritual según los signos ...  0.4314\n",
       "15    589      188  Un hombre de 90 años celebró su amor por su di...  0.4159\n",
       "16   7202      255  El delasotismo envió una señal a Hacemos Unido...  0.3500"
      ]
     },
     "execution_count": 66,
     "metadata": {},
     "output_type": "execute_result"
    }
   ],
   "source": [
    "# Documentos de un topico\n",
    "topic = 1 # Validar que exista para la prueba!\n",
    "\n",
    "docs_per_topics = [i for i, x in enumerate(topic_model_1.topics_) if x == topic]\n",
    "probs = topic_model_1.probabilities_[docs_per_topics]\n",
    "\n",
    "print(f\"Ejemplo para tópico:{topic} |   {topic_labels_1[topic+1]}\")\n",
    "\n",
    "doc_probs_x_topic = []\n",
    "for i, doc in enumerate(docs_per_topics):\n",
    "    doc_probs_x_topic.append([df_1.index[doc], doc, df_1.iloc[doc].title, round(probs[i],4)])\n",
    "    \n",
    "\n",
    "df_query_1 = pd.DataFrame(doc_probs_x_topic, columns=['ID','pos_rel','titulo','score']).sort_values('score', ascending=False, ignore_index=True)\n",
    "print(len(df_query_1), \"docs encontrados\")\n",
    "df_query_1"
   ]
  },
  {
   "cell_type": "code",
   "execution_count": 25,
   "metadata": {},
   "outputs": [
    {
     "data": {
      "text/html": [
       "<div>\n",
       "<style scoped>\n",
       "    .dataframe tbody tr th:only-of-type {\n",
       "        vertical-align: middle;\n",
       "    }\n",
       "\n",
       "    .dataframe tbody tr th {\n",
       "        vertical-align: top;\n",
       "    }\n",
       "\n",
       "    .dataframe thead th {\n",
       "        text-align: right;\n",
       "    }\n",
       "</style>\n",
       "<table border=\"1\" class=\"dataframe\">\n",
       "  <thead>\n",
       "    <tr style=\"text-align: right;\">\n",
       "      <th></th>\n",
       "      <th>entities</th>\n",
       "      <th>keywords</th>\n",
       "      <th>text</th>\n",
       "    </tr>\n",
       "  </thead>\n",
       "  <tbody>\n",
       "    <tr>\n",
       "      <th>3421</th>\n",
       "      <td>[Rosa Montero, Voy, Elena Ferrante, Martina Fu...</td>\n",
       "      <td>[amistades extintas, el cariño, mis amigas, af...</td>\n",
       "      <td>Algo imperceptible se quebró, no tenía sentido...</td>\n",
       "    </tr>\n",
       "    <tr>\n",
       "      <th>9010</th>\n",
       "      <td>[Mendoza, Va, Cámara Insurtech Argentina, La C...</td>\n",
       "      <td>[distintos clientes, la caja, conciencia asegu...</td>\n",
       "      <td>La Cámara Insurtech Argentina, que promueve la...</td>\n",
       "    </tr>\n",
       "  </tbody>\n",
       "</table>\n",
       "</div>"
      ],
      "text/plain": [
       "                                               entities  \\\n",
       "3421  [Rosa Montero, Voy, Elena Ferrante, Martina Fu...   \n",
       "9010  [Mendoza, Va, Cámara Insurtech Argentina, La C...   \n",
       "\n",
       "                                               keywords  \\\n",
       "3421  [amistades extintas, el cariño, mis amigas, af...   \n",
       "9010  [distintos clientes, la caja, conciencia asegu...   \n",
       "\n",
       "                                                   text  \n",
       "3421  Algo imperceptible se quebró, no tenía sentido...  \n",
       "9010  La Cámara Insurtech Argentina, que promueve la...  "
      ]
     },
     "execution_count": 25,
     "metadata": {},
     "output_type": "execute_result"
    }
   ],
   "source": []
  },
  {
   "cell_type": "markdown",
   "metadata": {},
   "source": [
    "### Achico el dataset para reducir tiempo de entrenamiemto"
   ]
  },
  {
   "cell_type": "code",
   "execution_count": 27,
   "metadata": {},
   "outputs": [
    {
     "name": "stdout",
     "output_type": "stream",
     "text": [
      " Cantidad de noticias de df_train_1 es 500\n"
     ]
    }
   ],
   "source": [
    "batch_news = 500\n",
    "\n",
    "df_train_3 = df_3.sample(n=int(batch_news)).copy()\n",
    "\n",
    "print(f\" Cantidad de noticias de df_train_1 es {len(df_train_3)}\")"
   ]
  },
  {
   "cell_type": "markdown",
   "metadata": {},
   "source": [
    "### Entidades y KeyWords con una pequeña limpieza.\n"
   ]
  },
  {
   "cell_type": "code",
   "execution_count": 33,
   "metadata": {},
   "outputs": [
    {
     "name": "stdout",
     "output_type": "stream",
     "text": [
      "3459\n",
      "9931\n"
     ]
    },
    {
     "data": {
      "text/plain": [
       "['experiencia única',\n",
       " 'variación mensual',\n",
       " 'tatuajes',\n",
       " 'mayores posibilidades',\n",
       " 'aspirinas']"
      ]
     },
     "execution_count": 33,
     "metadata": {},
     "output_type": "execute_result"
    }
   ],
   "source": [
    "from tp_function import  clean_all, Cleaning_text\n",
    "\n",
    "enti_train_3 = df_train_3[\"entities\"]\n",
    "enti_train_3_set = list(set([ ent.lower() for sublista in enti_train_3 for ent in sublista ]))\n",
    "enti_3_clean = clean_all(enti_train_3_set, accents=False)\n",
    "enti_train_3 = [ word for word in enti_3_clean if word not in SPANISH_STOPWORDS + SPANISH_STOPWORDS_PARTICULAR]\n",
    "print(len(enti_train_3))\n",
    "enti_train_3[:5]\n",
    "\n",
    "key_train_3 = df_train_3[\"keywords\"]\n",
    "key_3_set = list(set([ keyw.lower() for sublista in key_train_3 for keyw in sublista ]))\n",
    "key_3_clean = clean_all(key_3_set, accents=False)\n",
    "key_train_3 = [ word for word in key_3_clean if word not in SPANISH_STOPWORDS+SPANISH_STOPWORDS_PARTICULAR]\n",
    "print(len(key_train_3))\n",
    "key_train_3[:5]\n",
    "\n"
   ]
  },
  {
   "cell_type": "markdown",
   "metadata": {},
   "source": [
    "### Armo el vocabulario "
   ]
  },
  {
   "cell_type": "code",
   "execution_count": 34,
   "metadata": {},
   "outputs": [],
   "source": [
    "vocab_3 =  list(set(key_train_3 + enti_train_3))"
   ]
  },
  {
   "cell_type": "markdown",
   "metadata": {},
   "source": [
    "### TF-IDF"
   ]
  },
  {
   "cell_type": "code",
   "execution_count": 35,
   "metadata": {},
   "outputs": [
    {
     "data": {
      "text/html": [
       "<style>#sk-container-id-1 {\n",
       "  /* Definition of color scheme common for light and dark mode */\n",
       "  --sklearn-color-text: black;\n",
       "  --sklearn-color-line: gray;\n",
       "  /* Definition of color scheme for unfitted estimators */\n",
       "  --sklearn-color-unfitted-level-0: #fff5e6;\n",
       "  --sklearn-color-unfitted-level-1: #f6e4d2;\n",
       "  --sklearn-color-unfitted-level-2: #ffe0b3;\n",
       "  --sklearn-color-unfitted-level-3: chocolate;\n",
       "  /* Definition of color scheme for fitted estimators */\n",
       "  --sklearn-color-fitted-level-0: #f0f8ff;\n",
       "  --sklearn-color-fitted-level-1: #d4ebff;\n",
       "  --sklearn-color-fitted-level-2: #b3dbfd;\n",
       "  --sklearn-color-fitted-level-3: cornflowerblue;\n",
       "\n",
       "  /* Specific color for light theme */\n",
       "  --sklearn-color-text-on-default-background: var(--sg-text-color, var(--theme-code-foreground, var(--jp-content-font-color1, black)));\n",
       "  --sklearn-color-background: var(--sg-background-color, var(--theme-background, var(--jp-layout-color0, white)));\n",
       "  --sklearn-color-border-box: var(--sg-text-color, var(--theme-code-foreground, var(--jp-content-font-color1, black)));\n",
       "  --sklearn-color-icon: #696969;\n",
       "\n",
       "  @media (prefers-color-scheme: dark) {\n",
       "    /* Redefinition of color scheme for dark theme */\n",
       "    --sklearn-color-text-on-default-background: var(--sg-text-color, var(--theme-code-foreground, var(--jp-content-font-color1, white)));\n",
       "    --sklearn-color-background: var(--sg-background-color, var(--theme-background, var(--jp-layout-color0, #111)));\n",
       "    --sklearn-color-border-box: var(--sg-text-color, var(--theme-code-foreground, var(--jp-content-font-color1, white)));\n",
       "    --sklearn-color-icon: #878787;\n",
       "  }\n",
       "}\n",
       "\n",
       "#sk-container-id-1 {\n",
       "  color: var(--sklearn-color-text);\n",
       "}\n",
       "\n",
       "#sk-container-id-1 pre {\n",
       "  padding: 0;\n",
       "}\n",
       "\n",
       "#sk-container-id-1 input.sk-hidden--visually {\n",
       "  border: 0;\n",
       "  clip: rect(1px 1px 1px 1px);\n",
       "  clip: rect(1px, 1px, 1px, 1px);\n",
       "  height: 1px;\n",
       "  margin: -1px;\n",
       "  overflow: hidden;\n",
       "  padding: 0;\n",
       "  position: absolute;\n",
       "  width: 1px;\n",
       "}\n",
       "\n",
       "#sk-container-id-1 div.sk-dashed-wrapped {\n",
       "  border: 1px dashed var(--sklearn-color-line);\n",
       "  margin: 0 0.4em 0.5em 0.4em;\n",
       "  box-sizing: border-box;\n",
       "  padding-bottom: 0.4em;\n",
       "  background-color: var(--sklearn-color-background);\n",
       "}\n",
       "\n",
       "#sk-container-id-1 div.sk-container {\n",
       "  /* jupyter's `normalize.less` sets `[hidden] { display: none; }`\n",
       "     but bootstrap.min.css set `[hidden] { display: none !important; }`\n",
       "     so we also need the `!important` here to be able to override the\n",
       "     default hidden behavior on the sphinx rendered scikit-learn.org.\n",
       "     See: https://github.com/scikit-learn/scikit-learn/issues/21755 */\n",
       "  display: inline-block !important;\n",
       "  position: relative;\n",
       "}\n",
       "\n",
       "#sk-container-id-1 div.sk-text-repr-fallback {\n",
       "  display: none;\n",
       "}\n",
       "\n",
       "div.sk-parallel-item,\n",
       "div.sk-serial,\n",
       "div.sk-item {\n",
       "  /* draw centered vertical line to link estimators */\n",
       "  background-image: linear-gradient(var(--sklearn-color-text-on-default-background), var(--sklearn-color-text-on-default-background));\n",
       "  background-size: 2px 100%;\n",
       "  background-repeat: no-repeat;\n",
       "  background-position: center center;\n",
       "}\n",
       "\n",
       "/* Parallel-specific style estimator block */\n",
       "\n",
       "#sk-container-id-1 div.sk-parallel-item::after {\n",
       "  content: \"\";\n",
       "  width: 100%;\n",
       "  border-bottom: 2px solid var(--sklearn-color-text-on-default-background);\n",
       "  flex-grow: 1;\n",
       "}\n",
       "\n",
       "#sk-container-id-1 div.sk-parallel {\n",
       "  display: flex;\n",
       "  align-items: stretch;\n",
       "  justify-content: center;\n",
       "  background-color: var(--sklearn-color-background);\n",
       "  position: relative;\n",
       "}\n",
       "\n",
       "#sk-container-id-1 div.sk-parallel-item {\n",
       "  display: flex;\n",
       "  flex-direction: column;\n",
       "}\n",
       "\n",
       "#sk-container-id-1 div.sk-parallel-item:first-child::after {\n",
       "  align-self: flex-end;\n",
       "  width: 50%;\n",
       "}\n",
       "\n",
       "#sk-container-id-1 div.sk-parallel-item:last-child::after {\n",
       "  align-self: flex-start;\n",
       "  width: 50%;\n",
       "}\n",
       "\n",
       "#sk-container-id-1 div.sk-parallel-item:only-child::after {\n",
       "  width: 0;\n",
       "}\n",
       "\n",
       "/* Serial-specific style estimator block */\n",
       "\n",
       "#sk-container-id-1 div.sk-serial {\n",
       "  display: flex;\n",
       "  flex-direction: column;\n",
       "  align-items: center;\n",
       "  background-color: var(--sklearn-color-background);\n",
       "  padding-right: 1em;\n",
       "  padding-left: 1em;\n",
       "}\n",
       "\n",
       "\n",
       "/* Toggleable style: style used for estimator/Pipeline/ColumnTransformer box that is\n",
       "clickable and can be expanded/collapsed.\n",
       "- Pipeline and ColumnTransformer use this feature and define the default style\n",
       "- Estimators will overwrite some part of the style using the `sk-estimator` class\n",
       "*/\n",
       "\n",
       "/* Pipeline and ColumnTransformer style (default) */\n",
       "\n",
       "#sk-container-id-1 div.sk-toggleable {\n",
       "  /* Default theme specific background. It is overwritten whether we have a\n",
       "  specific estimator or a Pipeline/ColumnTransformer */\n",
       "  background-color: var(--sklearn-color-background);\n",
       "}\n",
       "\n",
       "/* Toggleable label */\n",
       "#sk-container-id-1 label.sk-toggleable__label {\n",
       "  cursor: pointer;\n",
       "  display: block;\n",
       "  width: 100%;\n",
       "  margin-bottom: 0;\n",
       "  padding: 0.5em;\n",
       "  box-sizing: border-box;\n",
       "  text-align: center;\n",
       "}\n",
       "\n",
       "#sk-container-id-1 label.sk-toggleable__label-arrow:before {\n",
       "  /* Arrow on the left of the label */\n",
       "  content: \"▸\";\n",
       "  float: left;\n",
       "  margin-right: 0.25em;\n",
       "  color: var(--sklearn-color-icon);\n",
       "}\n",
       "\n",
       "#sk-container-id-1 label.sk-toggleable__label-arrow:hover:before {\n",
       "  color: var(--sklearn-color-text);\n",
       "}\n",
       "\n",
       "/* Toggleable content - dropdown */\n",
       "\n",
       "#sk-container-id-1 div.sk-toggleable__content {\n",
       "  max-height: 0;\n",
       "  max-width: 0;\n",
       "  overflow: hidden;\n",
       "  text-align: left;\n",
       "  /* unfitted */\n",
       "  background-color: var(--sklearn-color-unfitted-level-0);\n",
       "}\n",
       "\n",
       "#sk-container-id-1 div.sk-toggleable__content.fitted {\n",
       "  /* fitted */\n",
       "  background-color: var(--sklearn-color-fitted-level-0);\n",
       "}\n",
       "\n",
       "#sk-container-id-1 div.sk-toggleable__content pre {\n",
       "  margin: 0.2em;\n",
       "  border-radius: 0.25em;\n",
       "  color: var(--sklearn-color-text);\n",
       "  /* unfitted */\n",
       "  background-color: var(--sklearn-color-unfitted-level-0);\n",
       "}\n",
       "\n",
       "#sk-container-id-1 div.sk-toggleable__content.fitted pre {\n",
       "  /* unfitted */\n",
       "  background-color: var(--sklearn-color-fitted-level-0);\n",
       "}\n",
       "\n",
       "#sk-container-id-1 input.sk-toggleable__control:checked~div.sk-toggleable__content {\n",
       "  /* Expand drop-down */\n",
       "  max-height: 200px;\n",
       "  max-width: 100%;\n",
       "  overflow: auto;\n",
       "}\n",
       "\n",
       "#sk-container-id-1 input.sk-toggleable__control:checked~label.sk-toggleable__label-arrow:before {\n",
       "  content: \"▾\";\n",
       "}\n",
       "\n",
       "/* Pipeline/ColumnTransformer-specific style */\n",
       "\n",
       "#sk-container-id-1 div.sk-label input.sk-toggleable__control:checked~label.sk-toggleable__label {\n",
       "  color: var(--sklearn-color-text);\n",
       "  background-color: var(--sklearn-color-unfitted-level-2);\n",
       "}\n",
       "\n",
       "#sk-container-id-1 div.sk-label.fitted input.sk-toggleable__control:checked~label.sk-toggleable__label {\n",
       "  background-color: var(--sklearn-color-fitted-level-2);\n",
       "}\n",
       "\n",
       "/* Estimator-specific style */\n",
       "\n",
       "/* Colorize estimator box */\n",
       "#sk-container-id-1 div.sk-estimator input.sk-toggleable__control:checked~label.sk-toggleable__label {\n",
       "  /* unfitted */\n",
       "  background-color: var(--sklearn-color-unfitted-level-2);\n",
       "}\n",
       "\n",
       "#sk-container-id-1 div.sk-estimator.fitted input.sk-toggleable__control:checked~label.sk-toggleable__label {\n",
       "  /* fitted */\n",
       "  background-color: var(--sklearn-color-fitted-level-2);\n",
       "}\n",
       "\n",
       "#sk-container-id-1 div.sk-label label.sk-toggleable__label,\n",
       "#sk-container-id-1 div.sk-label label {\n",
       "  /* The background is the default theme color */\n",
       "  color: var(--sklearn-color-text-on-default-background);\n",
       "}\n",
       "\n",
       "/* On hover, darken the color of the background */\n",
       "#sk-container-id-1 div.sk-label:hover label.sk-toggleable__label {\n",
       "  color: var(--sklearn-color-text);\n",
       "  background-color: var(--sklearn-color-unfitted-level-2);\n",
       "}\n",
       "\n",
       "/* Label box, darken color on hover, fitted */\n",
       "#sk-container-id-1 div.sk-label.fitted:hover label.sk-toggleable__label.fitted {\n",
       "  color: var(--sklearn-color-text);\n",
       "  background-color: var(--sklearn-color-fitted-level-2);\n",
       "}\n",
       "\n",
       "/* Estimator label */\n",
       "\n",
       "#sk-container-id-1 div.sk-label label {\n",
       "  font-family: monospace;\n",
       "  font-weight: bold;\n",
       "  display: inline-block;\n",
       "  line-height: 1.2em;\n",
       "}\n",
       "\n",
       "#sk-container-id-1 div.sk-label-container {\n",
       "  text-align: center;\n",
       "}\n",
       "\n",
       "/* Estimator-specific */\n",
       "#sk-container-id-1 div.sk-estimator {\n",
       "  font-family: monospace;\n",
       "  border: 1px dotted var(--sklearn-color-border-box);\n",
       "  border-radius: 0.25em;\n",
       "  box-sizing: border-box;\n",
       "  margin-bottom: 0.5em;\n",
       "  /* unfitted */\n",
       "  background-color: var(--sklearn-color-unfitted-level-0);\n",
       "}\n",
       "\n",
       "#sk-container-id-1 div.sk-estimator.fitted {\n",
       "  /* fitted */\n",
       "  background-color: var(--sklearn-color-fitted-level-0);\n",
       "}\n",
       "\n",
       "/* on hover */\n",
       "#sk-container-id-1 div.sk-estimator:hover {\n",
       "  /* unfitted */\n",
       "  background-color: var(--sklearn-color-unfitted-level-2);\n",
       "}\n",
       "\n",
       "#sk-container-id-1 div.sk-estimator.fitted:hover {\n",
       "  /* fitted */\n",
       "  background-color: var(--sklearn-color-fitted-level-2);\n",
       "}\n",
       "\n",
       "/* Specification for estimator info (e.g. \"i\" and \"?\") */\n",
       "\n",
       "/* Common style for \"i\" and \"?\" */\n",
       "\n",
       ".sk-estimator-doc-link,\n",
       "a:link.sk-estimator-doc-link,\n",
       "a:visited.sk-estimator-doc-link {\n",
       "  float: right;\n",
       "  font-size: smaller;\n",
       "  line-height: 1em;\n",
       "  font-family: monospace;\n",
       "  background-color: var(--sklearn-color-background);\n",
       "  border-radius: 1em;\n",
       "  height: 1em;\n",
       "  width: 1em;\n",
       "  text-decoration: none !important;\n",
       "  margin-left: 1ex;\n",
       "  /* unfitted */\n",
       "  border: var(--sklearn-color-unfitted-level-1) 1pt solid;\n",
       "  color: var(--sklearn-color-unfitted-level-1);\n",
       "}\n",
       "\n",
       ".sk-estimator-doc-link.fitted,\n",
       "a:link.sk-estimator-doc-link.fitted,\n",
       "a:visited.sk-estimator-doc-link.fitted {\n",
       "  /* fitted */\n",
       "  border: var(--sklearn-color-fitted-level-1) 1pt solid;\n",
       "  color: var(--sklearn-color-fitted-level-1);\n",
       "}\n",
       "\n",
       "/* On hover */\n",
       "div.sk-estimator:hover .sk-estimator-doc-link:hover,\n",
       ".sk-estimator-doc-link:hover,\n",
       "div.sk-label-container:hover .sk-estimator-doc-link:hover,\n",
       ".sk-estimator-doc-link:hover {\n",
       "  /* unfitted */\n",
       "  background-color: var(--sklearn-color-unfitted-level-3);\n",
       "  color: var(--sklearn-color-background);\n",
       "  text-decoration: none;\n",
       "}\n",
       "\n",
       "div.sk-estimator.fitted:hover .sk-estimator-doc-link.fitted:hover,\n",
       ".sk-estimator-doc-link.fitted:hover,\n",
       "div.sk-label-container:hover .sk-estimator-doc-link.fitted:hover,\n",
       ".sk-estimator-doc-link.fitted:hover {\n",
       "  /* fitted */\n",
       "  background-color: var(--sklearn-color-fitted-level-3);\n",
       "  color: var(--sklearn-color-background);\n",
       "  text-decoration: none;\n",
       "}\n",
       "\n",
       "/* Span, style for the box shown on hovering the info icon */\n",
       ".sk-estimator-doc-link span {\n",
       "  display: none;\n",
       "  z-index: 9999;\n",
       "  position: relative;\n",
       "  font-weight: normal;\n",
       "  right: .2ex;\n",
       "  padding: .5ex;\n",
       "  margin: .5ex;\n",
       "  width: min-content;\n",
       "  min-width: 20ex;\n",
       "  max-width: 50ex;\n",
       "  color: var(--sklearn-color-text);\n",
       "  box-shadow: 2pt 2pt 4pt #999;\n",
       "  /* unfitted */\n",
       "  background: var(--sklearn-color-unfitted-level-0);\n",
       "  border: .5pt solid var(--sklearn-color-unfitted-level-3);\n",
       "}\n",
       "\n",
       ".sk-estimator-doc-link.fitted span {\n",
       "  /* fitted */\n",
       "  background: var(--sklearn-color-fitted-level-0);\n",
       "  border: var(--sklearn-color-fitted-level-3);\n",
       "}\n",
       "\n",
       ".sk-estimator-doc-link:hover span {\n",
       "  display: block;\n",
       "}\n",
       "\n",
       "/* \"?\"-specific style due to the `<a>` HTML tag */\n",
       "\n",
       "#sk-container-id-1 a.estimator_doc_link {\n",
       "  float: right;\n",
       "  font-size: 1rem;\n",
       "  line-height: 1em;\n",
       "  font-family: monospace;\n",
       "  background-color: var(--sklearn-color-background);\n",
       "  border-radius: 1rem;\n",
       "  height: 1rem;\n",
       "  width: 1rem;\n",
       "  text-decoration: none;\n",
       "  /* unfitted */\n",
       "  color: var(--sklearn-color-unfitted-level-1);\n",
       "  border: var(--sklearn-color-unfitted-level-1) 1pt solid;\n",
       "}\n",
       "\n",
       "#sk-container-id-1 a.estimator_doc_link.fitted {\n",
       "  /* fitted */\n",
       "  border: var(--sklearn-color-fitted-level-1) 1pt solid;\n",
       "  color: var(--sklearn-color-fitted-level-1);\n",
       "}\n",
       "\n",
       "/* On hover */\n",
       "#sk-container-id-1 a.estimator_doc_link:hover {\n",
       "  /* unfitted */\n",
       "  background-color: var(--sklearn-color-unfitted-level-3);\n",
       "  color: var(--sklearn-color-background);\n",
       "  text-decoration: none;\n",
       "}\n",
       "\n",
       "#sk-container-id-1 a.estimator_doc_link.fitted:hover {\n",
       "  /* fitted */\n",
       "  background-color: var(--sklearn-color-fitted-level-3);\n",
       "}\n",
       "</style><div id=\"sk-container-id-1\" class=\"sk-top-container\"><div class=\"sk-text-repr-fallback\"><pre>TfidfVectorizer(max_df=0.9, min_df=0.1, ngram_range=(1, 3),\n",
       "                vocabulary=[&#x27;experiencia única&#x27;, &#x27;variación mensual&#x27;,\n",
       "                            &#x27;tatuajes&#x27;, &#x27;aspirinas&#x27;, &#x27;mayores posibilidades&#x27;,\n",
       "                            &#x27;actividades culturales&#x27;, &#x27;guerra&#x27;,\n",
       "                            &#x27;coloridos trajes&#x27;, &#x27;alcance lanzados&#x27;,\n",
       "                            &#x27;la destrucción&#x27;, &#x27;fútbol femenino&#x27;,\n",
       "                            &#x27;consejo general&#x27;, &#x27;atún&#x27;, &#x27;declaraciones radiales&#x27;,\n",
       "                            &#x27;deterioro cognitivo&#x27;, &#x27;maría josé rodríguez&#x27;,\n",
       "                            &#x27;la izquierda&#x27;, &#x27;wfn&#x27;, &#x27;destacado rendimiento&#x27;,\n",
       "                            &#x27;claudia villafañe&#x27;, &#x27;rey&#x27;, &#x27;lecciones&#x27;,\n",
       "                            &#x27;mac allister&#x27;, &#x27;garantía&#x27;, &#x27;cafeína natural&#x27;,\n",
       "                            &#x27;energía eléctrica&#x27;, &#x27;pandemia&#x27;, &#x27;informe policial&#x27;,\n",
       "                            &#x27;apuestas virtuales&#x27;, &#x27;media vuelta&#x27;, ...])</pre><b>In a Jupyter environment, please rerun this cell to show the HTML representation or trust the notebook. <br />On GitHub, the HTML representation is unable to render, please try loading this page with nbviewer.org.</b></div><div class=\"sk-container\" hidden><div class=\"sk-item\"><div class=\"sk-estimator fitted sk-toggleable\"><input class=\"sk-toggleable__control sk-hidden--visually\" id=\"sk-estimator-id-1\" type=\"checkbox\" checked><label for=\"sk-estimator-id-1\" class=\"sk-toggleable__label fitted sk-toggleable__label-arrow fitted\">&nbsp;&nbsp;TfidfVectorizer<a class=\"sk-estimator-doc-link fitted\" rel=\"noreferrer\" target=\"_blank\" href=\"https://scikit-learn.org/1.4/modules/generated/sklearn.feature_extraction.text.TfidfVectorizer.html\">?<span>Documentation for TfidfVectorizer</span></a><span class=\"sk-estimator-doc-link fitted\">i<span>Fitted</span></span></label><div class=\"sk-toggleable__content fitted\"><pre>TfidfVectorizer(max_df=0.9, min_df=0.1, ngram_range=(1, 3),\n",
       "                vocabulary=[&#x27;experiencia única&#x27;, &#x27;variación mensual&#x27;,\n",
       "                            &#x27;tatuajes&#x27;, &#x27;aspirinas&#x27;, &#x27;mayores posibilidades&#x27;,\n",
       "                            &#x27;actividades culturales&#x27;, &#x27;guerra&#x27;,\n",
       "                            &#x27;coloridos trajes&#x27;, &#x27;alcance lanzados&#x27;,\n",
       "                            &#x27;la destrucción&#x27;, &#x27;fútbol femenino&#x27;,\n",
       "                            &#x27;consejo general&#x27;, &#x27;atún&#x27;, &#x27;declaraciones radiales&#x27;,\n",
       "                            &#x27;deterioro cognitivo&#x27;, &#x27;maría josé rodríguez&#x27;,\n",
       "                            &#x27;la izquierda&#x27;, &#x27;wfn&#x27;, &#x27;destacado rendimiento&#x27;,\n",
       "                            &#x27;claudia villafañe&#x27;, &#x27;rey&#x27;, &#x27;lecciones&#x27;,\n",
       "                            &#x27;mac allister&#x27;, &#x27;garantía&#x27;, &#x27;cafeína natural&#x27;,\n",
       "                            &#x27;energía eléctrica&#x27;, &#x27;pandemia&#x27;, &#x27;informe policial&#x27;,\n",
       "                            &#x27;apuestas virtuales&#x27;, &#x27;media vuelta&#x27;, ...])</pre></div> </div></div></div></div>"
      ],
      "text/plain": [
       "TfidfVectorizer(max_df=0.9, min_df=0.1, ngram_range=(1, 3),\n",
       "                vocabulary=['experiencia única', 'variación mensual',\n",
       "                            'tatuajes', 'aspirinas', 'mayores posibilidades',\n",
       "                            'actividades culturales', 'guerra',\n",
       "                            'coloridos trajes', 'alcance lanzados',\n",
       "                            'la destrucción', 'fútbol femenino',\n",
       "                            'consejo general', 'atún', 'declaraciones radiales',\n",
       "                            'deterioro cognitivo', 'maría josé rodríguez',\n",
       "                            'la izquierda', 'wfn', 'destacado rendimiento',\n",
       "                            'claudia villafañe', 'rey', 'lecciones',\n",
       "                            'mac allister', 'garantía', 'cafeína natural',\n",
       "                            'energía eléctrica', 'pandemia', 'informe policial',\n",
       "                            'apuestas virtuales', 'media vuelta', ...])"
      ]
     },
     "execution_count": 35,
     "metadata": {},
     "output_type": "execute_result"
    }
   ],
   "source": [
    "data_train_3 = list(df_train_3['text']) \n",
    "\n",
    "tfidf_vectorizer_3 = TfidfVectorizer(\n",
    "        tokenizer=None,\n",
    "        max_df=0.9,\n",
    "        min_df=0.1,\n",
    "        ngram_range=(1, 3),\n",
    "        vocabulary=vocab_3,\n",
    ")\n",
    "tfidf_vectorizer_3.fit(data_train_3)"
   ]
  },
  {
   "cell_type": "markdown",
   "metadata": {},
   "source": [
    "### Limpio el texto de las noticias"
   ]
  },
  {
   "cell_type": "code",
   "execution_count": 36,
   "metadata": {},
   "outputs": [
    {
     "name": "stderr",
     "output_type": "stream",
     "text": [
      "100%|██████████| 500/500 [00:00<00:00, 1641.63it/s]\n"
     ]
    }
   ],
   "source": [
    "data_text_3 = list(df_train_3[\"text\"])\n",
    "\n",
    "clean_data = Cleaning_text()\n",
    "\n",
    "proc_data_text_3 = []\n",
    "for data_in in tqdm(data_text_3):\n",
    "    aux = clean_data.unicode(data_in)\n",
    "    aux = clean_data.urls(aux)\n",
    "    aux = clean_data.simbols(aux)\n",
    "    aux = clean_data.escape_sequence(aux)\n",
    "    aux = \" \".join([ word for word in aux.split() if word.lower() not in SPANISH_STOPWORDS_PARTICULAR])\n",
    "    proc_data_text_3.append(aux)"
   ]
  },
  {
   "cell_type": "code",
   "execution_count": 52,
   "metadata": {},
   "outputs": [],
   "source": [
    "#Step 1 - Extract embeddings\n",
    "embedding_model = SentenceTransformer(\"paraphrase-multilingual-MiniLM-L12-v2\")\n",
    "\n",
    "# Step 2 - Reduce dimensionality\n",
    "umap_model = UMAP(n_neighbors=15, n_components=5, min_dist=0.0, metric='cosine', random_state=42)\n",
    "\n",
    "# Step 3 - Cluster reduced embeddings\n",
    "hdbscan_model = HDBSCAN(min_cluster_size=10, metric='euclidean', cluster_selection_method='eom', prediction_data=True)\n",
    "\n",
    "# Step 4 - Tokenize topics\n",
    "vectorizer_model_3= tfidf_vectorizer_3\n",
    "\n",
    "# Step 5 - Create topic representation\n",
    "ctfidf_model = ClassTfidfTransformer()\n",
    "\n",
    "# All steps together\n",
    "topic_model_3 = BERTopic(\n",
    "  embedding_model=embedding_model,              \n",
    "  umap_model=umap_model,                        \n",
    "  hdbscan_model=hdbscan_model,                  \n",
    "  vectorizer_model=vectorizer_model_3,         \n",
    "  ctfidf_model=ctfidf_model,                    \n",
    "  # language='multilingual',                    \n",
    "  verbose=True,\n",
    "  # calculate_probabilities=True\n",
    ")"
   ]
  },
  {
   "cell_type": "code",
   "execution_count": 45,
   "metadata": {},
   "outputs": [],
   "source": [
    "#def model_function(embedding_model, umap_model, hdbscan_model, vectorizer_model,ctfidf_model):\n",
    "    #BERTopic(\n",
    "    #embedding_model=embedding_model,              \n",
    "    #umap_model=umap_model,                        \n",
    "    #hdbscan_model=hdbscan_model,                  \n",
    "    #vectorizer_model=vectorizer_model,         \n",
    "    #ctfidf_model=ctfidf_model,                    \n",
    "    #verbose=True,\n",
    "#)\n",
    "\n",
    "#topic_model_4 = model_function(embedding_model, umap_model, hdbscan_model, vectorizer_model_3, ctfidf_model)\n",
    "\n",
    "#topics_1, probs_1 = topic_model_4.fit_transform( proc_data_text_3)"
   ]
  },
  {
   "cell_type": "code",
   "execution_count": 53,
   "metadata": {},
   "outputs": [
    {
     "name": "stderr",
     "output_type": "stream",
     "text": [
      "2024-09-12 11:04:30,877 - BERTopic - Embedding - Transforming documents to embeddings.\n"
     ]
    },
    {
     "data": {
      "application/vnd.jupyter.widget-view+json": {
       "model_id": "488fc9d1dd6546038ff6b70b18846468",
       "version_major": 2,
       "version_minor": 0
      },
      "text/plain": [
       "Batches:   0%|          | 0/16 [00:00<?, ?it/s]"
      ]
     },
     "metadata": {},
     "output_type": "display_data"
    },
    {
     "name": "stderr",
     "output_type": "stream",
     "text": [
      "2024-09-12 11:05:27,384 - BERTopic - Embedding - Completed ✓\n",
      "2024-09-12 11:05:27,384 - BERTopic - Dimensionality - Fitting the dimensionality reduction algorithm\n",
      "2024-09-12 11:05:39,385 - BERTopic - Dimensionality - Completed ✓\n",
      "2024-09-12 11:05:39,385 - BERTopic - Cluster - Start clustering the reduced embeddings\n",
      "2024-09-12 11:05:39,481 - BERTopic - Cluster - Completed ✓\n",
      "2024-09-12 11:05:39,507 - BERTopic - Representation - Extracting topics from clusters using representation models.\n",
      "c:\\Users\\amunoz\\AppData\\Local\\anaconda3\\envs\\topics\\Lib\\site-packages\\bertopic\\vectorizers\\_ctfidf.py:82: RuntimeWarning: divide by zero encountered in divide\n",
      "  idf = np.log((avg_nr_samples / df)+1)\n",
      "2024-09-12 11:05:40,755 - BERTopic - Representation - Completed ✓\n"
     ]
    }
   ],
   "source": [
    "topics_3, probs_3 = topic_model_3.fit_transform( proc_data_text_3)"
   ]
  },
  {
   "cell_type": "code",
   "execution_count": 54,
   "metadata": {},
   "outputs": [
    {
     "data": {
      "text/html": [
       "<div>\n",
       "<style scoped>\n",
       "    .dataframe tbody tr th:only-of-type {\n",
       "        vertical-align: middle;\n",
       "    }\n",
       "\n",
       "    .dataframe tbody tr th {\n",
       "        vertical-align: top;\n",
       "    }\n",
       "\n",
       "    .dataframe thead th {\n",
       "        text-align: right;\n",
       "    }\n",
       "</style>\n",
       "<table border=\"1\" class=\"dataframe\">\n",
       "  <thead>\n",
       "    <tr style=\"text-align: right;\">\n",
       "      <th></th>\n",
       "      <th>topicos</th>\n",
       "      <th>probabilidades</th>\n",
       "      <th>Texto</th>\n",
       "    </tr>\n",
       "  </thead>\n",
       "  <tbody>\n",
       "    <tr>\n",
       "      <th>0</th>\n",
       "      <td>0</td>\n",
       "      <td>0.962761</td>\n",
       "      <td>Astrotoons es una experiencia cooperativa Un s...</td>\n",
       "    </tr>\n",
       "    <tr>\n",
       "      <th>1</th>\n",
       "      <td>0</td>\n",
       "      <td>1.000000</td>\n",
       "      <td>Junto al intendente Gustavo Barrera visitaron ...</td>\n",
       "    </tr>\n",
       "  </tbody>\n",
       "</table>\n",
       "</div>"
      ],
      "text/plain": [
       "   topicos  probabilidades                                              Texto\n",
       "0        0        0.962761  Astrotoons es una experiencia cooperativa Un s...\n",
       "1        0        1.000000  Junto al intendente Gustavo Barrera visitaron ..."
      ]
     },
     "execution_count": 54,
     "metadata": {},
     "output_type": "execute_result"
    }
   ],
   "source": [
    "df_modelo_3 = pd.DataFrame((zip(topics_3,probs_3,proc_data_text_3)), columns = ['topicos','probabilidades',\"Texto\"])\n",
    "df_modelo_3.head(2)"
   ]
  },
  {
   "cell_type": "code",
   "execution_count": 55,
   "metadata": {},
   "outputs": [
    {
     "name": "stdout",
     "output_type": "stream",
     "text": [
      "Número de tópicos encontrados: 2 (incluye el topico -1)\n",
      "   Topic  Count\n",
      "0      0    473\n",
      "1      1     27\n",
      "2\n"
     ]
    }
   ],
   "source": [
    "topic_freq_3 = topic_model_3.get_topic_freq()\n",
    "num_topics_3 = len(topic_freq_3)\n",
    "print(f\"Número de tópicos encontrados: {num_topics_3} (incluye el topico -1)\")\n",
    "print(topic_freq_3)\n",
    "print(len(topic_freq_3))\n",
    "\n",
    "\n"
   ]
  },
  {
   "cell_type": "code",
   "execution_count": 56,
   "metadata": {},
   "outputs": [],
   "source": [
    "embeds_3 =  embedding_model.encode(proc_data_text_3)"
   ]
  },
  {
   "cell_type": "code",
   "execution_count": null,
   "metadata": {},
   "outputs": [],
   "source": []
  },
  {
   "cell_type": "code",
   "execution_count": null,
   "metadata": {},
   "outputs": [],
   "source": []
  },
  {
   "cell_type": "code",
   "execution_count": null,
   "metadata": {},
   "outputs": [],
   "source": []
  }
 ],
 "metadata": {
  "kernelspec": {
   "display_name": "topics",
   "language": "python",
   "name": "python3"
  },
  "language_info": {
   "codemirror_mode": {
    "name": "ipython",
    "version": 3
   },
   "file_extension": ".py",
   "mimetype": "text/x-python",
   "name": "python",
   "nbconvert_exporter": "python",
   "pygments_lexer": "ipython3",
   "version": "3.11.9"
  }
 },
 "nbformat": 4,
 "nbformat_minor": 2
}
